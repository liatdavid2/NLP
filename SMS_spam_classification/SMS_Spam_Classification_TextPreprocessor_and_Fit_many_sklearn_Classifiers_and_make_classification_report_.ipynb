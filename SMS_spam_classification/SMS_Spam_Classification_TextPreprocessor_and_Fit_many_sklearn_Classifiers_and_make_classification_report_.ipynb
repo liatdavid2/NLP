{
  "nbformat": 4,
  "nbformat_minor": 0,
  "metadata": {
    "colab": {
      "provenance": [],
      "machine_shape": "hm"
    },
    "kernelspec": {
      "name": "python3",
      "display_name": "Python 3"
    },
    "language_info": {
      "name": "python"
    },
    "accelerator": "GPU",
    "gpuClass": "premium"
  },
  "cells": [
    {
      "cell_type": "markdown",
      "source": [
        "## Dataset URL : https://www.kaggle.com/code/kaushalkrishna2000/spam-classification-1/data"
      ],
      "metadata": {
        "id": "uPJVyAtMaz7R"
      }
    },
    {
      "cell_type": "markdown",
      "source": [
        "![image.png](data:image/png;base64,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)"
      ],
      "metadata": {
        "id": "r5xlTVSIbJPV"
      }
    },
    {
      "cell_type": "markdown",
      "source": [
        "# Package Import"
      ],
      "metadata": {
        "id": "GtHA4F7LbdfX"
      }
    },
    {
      "cell_type": "code",
      "execution_count": 1,
      "metadata": {
        "id": "q4UUZcyMafNJ"
      },
      "outputs": [],
      "source": [
        "import os\n",
        "import numpy as np\n",
        "import multiprocessing as mp\n",
        "import re\n",
        "import string\n",
        "import spacy\n",
        "import pandas as pd\n",
        "import spacy\n",
        "from sklearn.base import TransformerMixin, BaseEstimator\n",
        "from joblib import Parallel, delayed\n",
        "from spacy.lang.en.stop_words import STOP_WORDS \n",
        "from sklearn.feature_extraction.text import TfidfVectorizer,CountVectorizer\n",
        "from sklearn.model_selection import train_test_split\n",
        "from sklearn.metrics import classification_report"
      ]
    },
    {
      "cell_type": "code",
      "source": [
        "nlp = spacy.load((\"en_core_web_sm\"), disable=[\"ner\",\"parser\"])"
      ],
      "metadata": {
        "id": "zVJRYvYBbkzR"
      },
      "execution_count": 2,
      "outputs": []
    },
    {
      "cell_type": "markdown",
      "source": [
        "# Preprocessing Pipeline"
      ],
      "metadata": {
        "id": "qHN9e78DfBIq"
      }
    },
    {
      "cell_type": "code",
      "source": [
        "class TextPreprocessor(BaseEstimator, TransformerMixin):\n",
        "    def __init__(self, variety=\"BrE\", user_abbrevs={}, n_jobs=1, doit=True):\n",
        "        \"\"\"\n",
        "        Text preprocessing transformer includes steps:\n",
        "            1. Normal Cleaner\n",
        "            2. Punctuation removal\n",
        "            3. Stop words removal\n",
        "            4. Lemmatization\n",
        "        \n",
        "        n_jobs - parallel jobs to run\n",
        "        \"\"\"\n",
        "        self.variety = variety\n",
        "        self.user_abbrevs = user_abbrevs\n",
        "        self.n_jobs = n_jobs\n",
        "        self.doit= doit\n",
        "\n",
        "    def fit(self, X, y=None):\n",
        "        return self\n",
        "\n",
        "    def transform(self, X, *_):\n",
        "        X_copy = X.copy()\n",
        "\n",
        "        partitions = 1\n",
        "        cores = mp.cpu_count()\n",
        "        if self.n_jobs <= -1:\n",
        "            partitions = cores\n",
        "        elif self.n_jobs <= 0:\n",
        "            return X_copy.apply(self._preprocess_text)\n",
        "        else:\n",
        "            partitions = min(self.n_jobs, cores)\n",
        "\n",
        "        data_split = np.array_split(X_copy, partitions)\n",
        "        pool = mp.Pool(cores)\n",
        "        data = pd.concat(pool.map(self._preprocess_part, data_split))\n",
        "        pool.close()\n",
        "        pool.join()\n",
        "\n",
        "        return data\n",
        "\n",
        "    def _preprocess_part(self, part):\n",
        "        return part.apply(self._preprocess_text)\n",
        "\n",
        "    def _preprocess_text(self, text):\n",
        "        normalized_text =self._cleaner(text,self.doit) if (self.doit) else text\n",
        "        doc = nlp(normalized_text)\n",
        "        removed_punct = self._remove_punct(doc)\n",
        "        removed_stop_words = self._remove_stop_words(removed_punct)\n",
        "        return self._lemmatize(removed_stop_words)\n",
        "\n",
        "    def _remove_punct(self, doc):\n",
        "        return [t for t in doc if t.text not in string.punctuation]\n",
        "\n",
        "    def _remove_stop_words(self, doc):\n",
        "        return [t for t in doc if not t.is_stop]\n",
        "    \n",
        "    # Remove t.is_alpha for numerical consideration\n",
        "    def _lemmatize(self, doc):\n",
        "        return \" \".join([t.lemma_ for t in doc])\n",
        "    \n",
        "    def _cleaner(self,text,doit):\n",
        "#         print(text)\n",
        "        pattern = re.compile(r\"[A-Za-z0-9\\-]{3,50}\")\n",
        "#         print(re.findall(pattern,text))\n",
        "        clean = \" \".join(re.findall(pattern,text))\n",
        "        return clean "
      ],
      "metadata": {
        "id": "g6fU29YrbljC"
      },
      "execution_count": 3,
      "outputs": []
    },
    {
      "cell_type": "markdown",
      "source": [
        "# Data preprocess"
      ],
      "metadata": {
        "id": "LZmi88WSfGg8"
      }
    },
    {
      "cell_type": "code",
      "source": [
        "df=pd.read_csv('/content/train.csv')\n",
        "df"
      ],
      "metadata": {
        "colab": {
          "base_uri": "https://localhost:8080/",
          "height": 424
        },
        "id": "DNM0vRfvbvJT",
        "outputId": "eefcd467-5dba-4fd9-8bbc-f8501e0b7430"
      },
      "execution_count": 4,
      "outputs": [
        {
          "output_type": "execute_result",
          "data": {
            "text/plain": [
              "                                                    sms  label\n",
              "0     Go until jurong point, crazy.. Available only ...      0\n",
              "1                       Ok lar... Joking wif u oni...\\n      0\n",
              "2     Free entry in 2 a wkly comp to win FA Cup fina...      1\n",
              "3     U dun say so early hor... U c already then say...      0\n",
              "4     Nah I don't think he goes to usf, he lives aro...      0\n",
              "...                                                 ...    ...\n",
              "5569  This is the 2nd time we have tried 2 contact u...      1\n",
              "5570             Will ü b going to esplanade fr home?\\n      0\n",
              "5571  Pity, * was in mood for that. So...any other s...      0\n",
              "5572  The guy did some bitching but I acted like i'd...      0\n",
              "5573                       Rofl. Its true to its name\\n      0\n",
              "\n",
              "[5574 rows x 2 columns]"
            ],
            "text/html": [
              "\n",
              "  <div id=\"df-f8d8d011-fbd0-44e6-ace5-b02ee56d8e21\">\n",
              "    <div class=\"colab-df-container\">\n",
              "      <div>\n",
              "<style scoped>\n",
              "    .dataframe tbody tr th:only-of-type {\n",
              "        vertical-align: middle;\n",
              "    }\n",
              "\n",
              "    .dataframe tbody tr th {\n",
              "        vertical-align: top;\n",
              "    }\n",
              "\n",
              "    .dataframe thead th {\n",
              "        text-align: right;\n",
              "    }\n",
              "</style>\n",
              "<table border=\"1\" class=\"dataframe\">\n",
              "  <thead>\n",
              "    <tr style=\"text-align: right;\">\n",
              "      <th></th>\n",
              "      <th>sms</th>\n",
              "      <th>label</th>\n",
              "    </tr>\n",
              "  </thead>\n",
              "  <tbody>\n",
              "    <tr>\n",
              "      <th>0</th>\n",
              "      <td>Go until jurong point, crazy.. Available only ...</td>\n",
              "      <td>0</td>\n",
              "    </tr>\n",
              "    <tr>\n",
              "      <th>1</th>\n",
              "      <td>Ok lar... Joking wif u oni...\\n</td>\n",
              "      <td>0</td>\n",
              "    </tr>\n",
              "    <tr>\n",
              "      <th>2</th>\n",
              "      <td>Free entry in 2 a wkly comp to win FA Cup fina...</td>\n",
              "      <td>1</td>\n",
              "    </tr>\n",
              "    <tr>\n",
              "      <th>3</th>\n",
              "      <td>U dun say so early hor... U c already then say...</td>\n",
              "      <td>0</td>\n",
              "    </tr>\n",
              "    <tr>\n",
              "      <th>4</th>\n",
              "      <td>Nah I don't think he goes to usf, he lives aro...</td>\n",
              "      <td>0</td>\n",
              "    </tr>\n",
              "    <tr>\n",
              "      <th>...</th>\n",
              "      <td>...</td>\n",
              "      <td>...</td>\n",
              "    </tr>\n",
              "    <tr>\n",
              "      <th>5569</th>\n",
              "      <td>This is the 2nd time we have tried 2 contact u...</td>\n",
              "      <td>1</td>\n",
              "    </tr>\n",
              "    <tr>\n",
              "      <th>5570</th>\n",
              "      <td>Will ü b going to esplanade fr home?\\n</td>\n",
              "      <td>0</td>\n",
              "    </tr>\n",
              "    <tr>\n",
              "      <th>5571</th>\n",
              "      <td>Pity, * was in mood for that. So...any other s...</td>\n",
              "      <td>0</td>\n",
              "    </tr>\n",
              "    <tr>\n",
              "      <th>5572</th>\n",
              "      <td>The guy did some bitching but I acted like i'd...</td>\n",
              "      <td>0</td>\n",
              "    </tr>\n",
              "    <tr>\n",
              "      <th>5573</th>\n",
              "      <td>Rofl. Its true to its name\\n</td>\n",
              "      <td>0</td>\n",
              "    </tr>\n",
              "  </tbody>\n",
              "</table>\n",
              "<p>5574 rows × 2 columns</p>\n",
              "</div>\n",
              "      <button class=\"colab-df-convert\" onclick=\"convertToInteractive('df-f8d8d011-fbd0-44e6-ace5-b02ee56d8e21')\"\n",
              "              title=\"Convert this dataframe to an interactive table.\"\n",
              "              style=\"display:none;\">\n",
              "        \n",
              "  <svg xmlns=\"http://www.w3.org/2000/svg\" height=\"24px\"viewBox=\"0 0 24 24\"\n",
              "       width=\"24px\">\n",
              "    <path d=\"M0 0h24v24H0V0z\" fill=\"none\"/>\n",
              "    <path d=\"M18.56 5.44l.94 2.06.94-2.06 2.06-.94-2.06-.94-.94-2.06-.94 2.06-2.06.94zm-11 1L8.5 8.5l.94-2.06 2.06-.94-2.06-.94L8.5 2.5l-.94 2.06-2.06.94zm10 10l.94 2.06.94-2.06 2.06-.94-2.06-.94-.94-2.06-.94 2.06-2.06.94z\"/><path d=\"M17.41 7.96l-1.37-1.37c-.4-.4-.92-.59-1.43-.59-.52 0-1.04.2-1.43.59L10.3 9.45l-7.72 7.72c-.78.78-.78 2.05 0 2.83L4 21.41c.39.39.9.59 1.41.59.51 0 1.02-.2 1.41-.59l7.78-7.78 2.81-2.81c.8-.78.8-2.07 0-2.86zM5.41 20L4 18.59l7.72-7.72 1.47 1.35L5.41 20z\"/>\n",
              "  </svg>\n",
              "      </button>\n",
              "      \n",
              "  <style>\n",
              "    .colab-df-container {\n",
              "      display:flex;\n",
              "      flex-wrap:wrap;\n",
              "      gap: 12px;\n",
              "    }\n",
              "\n",
              "    .colab-df-convert {\n",
              "      background-color: #E8F0FE;\n",
              "      border: none;\n",
              "      border-radius: 50%;\n",
              "      cursor: pointer;\n",
              "      display: none;\n",
              "      fill: #1967D2;\n",
              "      height: 32px;\n",
              "      padding: 0 0 0 0;\n",
              "      width: 32px;\n",
              "    }\n",
              "\n",
              "    .colab-df-convert:hover {\n",
              "      background-color: #E2EBFA;\n",
              "      box-shadow: 0px 1px 2px rgba(60, 64, 67, 0.3), 0px 1px 3px 1px rgba(60, 64, 67, 0.15);\n",
              "      fill: #174EA6;\n",
              "    }\n",
              "\n",
              "    [theme=dark] .colab-df-convert {\n",
              "      background-color: #3B4455;\n",
              "      fill: #D2E3FC;\n",
              "    }\n",
              "\n",
              "    [theme=dark] .colab-df-convert:hover {\n",
              "      background-color: #434B5C;\n",
              "      box-shadow: 0px 1px 3px 1px rgba(0, 0, 0, 0.15);\n",
              "      filter: drop-shadow(0px 1px 2px rgba(0, 0, 0, 0.3));\n",
              "      fill: #FFFFFF;\n",
              "    }\n",
              "  </style>\n",
              "\n",
              "      <script>\n",
              "        const buttonEl =\n",
              "          document.querySelector('#df-f8d8d011-fbd0-44e6-ace5-b02ee56d8e21 button.colab-df-convert');\n",
              "        buttonEl.style.display =\n",
              "          google.colab.kernel.accessAllowed ? 'block' : 'none';\n",
              "\n",
              "        async function convertToInteractive(key) {\n",
              "          const element = document.querySelector('#df-f8d8d011-fbd0-44e6-ace5-b02ee56d8e21');\n",
              "          const dataTable =\n",
              "            await google.colab.kernel.invokeFunction('convertToInteractive',\n",
              "                                                     [key], {});\n",
              "          if (!dataTable) return;\n",
              "\n",
              "          const docLinkHtml = 'Like what you see? Visit the ' +\n",
              "            '<a target=\"_blank\" href=https://colab.research.google.com/notebooks/data_table.ipynb>data table notebook</a>'\n",
              "            + ' to learn more about interactive tables.';\n",
              "          element.innerHTML = '';\n",
              "          dataTable['output_type'] = 'display_data';\n",
              "          await google.colab.output.renderOutput(dataTable, element);\n",
              "          const docLink = document.createElement('div');\n",
              "          docLink.innerHTML = docLinkHtml;\n",
              "          element.appendChild(docLink);\n",
              "        }\n",
              "      </script>\n",
              "    </div>\n",
              "  </div>\n",
              "  "
            ]
          },
          "metadata": {},
          "execution_count": 4
        }
      ]
    },
    {
      "cell_type": "code",
      "source": [
        "t=df.loc[0,'sms']\n",
        "t"
      ],
      "metadata": {
        "colab": {
          "base_uri": "https://localhost:8080/",
          "height": 36
        },
        "id": "rXAqHuEcb5Jo",
        "outputId": "366b0c59-be6b-491d-ed09-bdc06ccaaa2d"
      },
      "execution_count": 5,
      "outputs": [
        {
          "output_type": "execute_result",
          "data": {
            "text/plain": [
              "'Go until jurong point, crazy.. Available only in bugis n great world la e buffet... Cine there got amore wat...\\n'"
            ],
            "application/vnd.google.colaboratory.intrinsic+json": {
              "type": "string"
            }
          },
          "metadata": {},
          "execution_count": 5
        }
      ]
    },
    {
      "cell_type": "code",
      "source": [
        "X=df['sms']\n",
        "y=df['label']"
      ],
      "metadata": {
        "id": "VcImRpiXb9MY"
      },
      "execution_count": 6,
      "outputs": []
    },
    {
      "cell_type": "code",
      "source": [
        "X_train,X_test,y_train,y_test=train_test_split(X,y,test_size=0.2,random_state=42)"
      ],
      "metadata": {
        "id": "-80u9EKCcHpJ"
      },
      "execution_count": 7,
      "outputs": []
    },
    {
      "cell_type": "code",
      "source": [
        "X.shape,y.shape"
      ],
      "metadata": {
        "colab": {
          "base_uri": "https://localhost:8080/"
        },
        "id": "6zkHyhSXcIPs",
        "outputId": "6cc58722-96a8-48d5-d797-f0f13fa03e4b"
      },
      "execution_count": 8,
      "outputs": [
        {
          "output_type": "execute_result",
          "data": {
            "text/plain": [
              "((5574,), (5574,))"
            ]
          },
          "metadata": {},
          "execution_count": 8
        }
      ]
    },
    {
      "cell_type": "code",
      "source": [
        "X_train=(TextPreprocessor(n_jobs=-1).transform(X_train))\n",
        "X_test=(TextPreprocessor(n_jobs=-1).transform(X_test))"
      ],
      "metadata": {
        "id": "kpqRlboDcKPP"
      },
      "execution_count": 9,
      "outputs": []
    },
    {
      "cell_type": "code",
      "source": [
        "X_train.shape,X_test.shape"
      ],
      "metadata": {
        "colab": {
          "base_uri": "https://localhost:8080/"
        },
        "id": "Is6GMxW5cSCC",
        "outputId": "265ccb43-4115-4313-c447-256c0b0c1182"
      },
      "execution_count": 10,
      "outputs": [
        {
          "output_type": "execute_result",
          "data": {
            "text/plain": [
              "((4459,), (1115,))"
            ]
          },
          "metadata": {},
          "execution_count": 10
        }
      ]
    },
    {
      "cell_type": "code",
      "source": [
        "cov=TfidfVectorizer()\n",
        "X_train=cov.fit_transform(X_train).toarray()\n",
        "X_test=cov.transform(X_test).toarray()"
      ],
      "metadata": {
        "id": "G-SHA0qxcTJc"
      },
      "execution_count": 11,
      "outputs": []
    },
    {
      "cell_type": "code",
      "source": [
        "X_train.shape,X_test.shape"
      ],
      "metadata": {
        "colab": {
          "base_uri": "https://localhost:8080/"
        },
        "id": "fqC7Vk0McU4H",
        "outputId": "e230cf50-8ea7-49e1-ec75-50da77943938"
      },
      "execution_count": 12,
      "outputs": [
        {
          "output_type": "execute_result",
          "data": {
            "text/plain": [
              "((4459, 6458), (1115, 6458))"
            ]
          },
          "metadata": {},
          "execution_count": 12
        }
      ]
    },
    {
      "cell_type": "markdown",
      "source": [
        "# Model training"
      ],
      "metadata": {
        "id": "iZqpwVbsfQNP"
      }
    },
    {
      "cell_type": "code",
      "source": [
        "from sklearn.linear_model import LogisticRegression,LogisticRegressionCV\n",
        "from sklearn.svm import SVC\n",
        "from sklearn.tree import DecisionTreeClassifier,ExtraTreeClassifier\n",
        "from sklearn.ensemble import RandomForestClassifier,AdaBoostClassifier"
      ],
      "metadata": {
        "id": "THwXxdggcXFK"
      },
      "execution_count": 13,
      "outputs": []
    },
    {
      "cell_type": "code",
      "source": [
        "clf_1 =LogisticRegressionCV(n_jobs=-1,cv=3,max_iter=2000)\n",
        "clf_2= SVC()\n",
        "clf_3 =DecisionTreeClassifier()\n",
        "clf_4=ExtraTreeClassifier()\n",
        "\n",
        "clf_5 =RandomForestClassifier(n_jobs=-1)\n",
        "\n",
        "\n",
        "\n",
        "clf_list=[clf_1,clf_2,clf_3,clf_4,clf_5]"
      ],
      "metadata": {
        "id": "8b02jm9XcaKL"
      },
      "execution_count": 14,
      "outputs": []
    },
    {
      "cell_type": "code",
      "source": [
        "for clf in clf_list: \n",
        "    clf.fit(X_train,y_train.values.ravel())"
      ],
      "metadata": {
        "id": "TCr6df4Scb9Z"
      },
      "execution_count": 15,
      "outputs": []
    },
    {
      "cell_type": "markdown",
      "source": [
        "# Model evaluation"
      ],
      "metadata": {
        "id": "u7JsW0n_fVDi"
      }
    },
    {
      "cell_type": "code",
      "source": [
        "for clf in clf_list:\n",
        "        \n",
        "    pred=clf.predict(X_test)\n",
        "    \n",
        "    print(\"-\"*50)\n",
        "    \n",
        "    print(clf.__class__.__name__)\n",
        "    \n",
        "    print(classification_report(y_test.values,pred))"
      ],
      "metadata": {
        "colab": {
          "base_uri": "https://localhost:8080/"
        },
        "id": "F8y_En-Hceu0",
        "outputId": "6ce71c54-f4dc-48a2-be14-6ac4a5e17c4e"
      },
      "execution_count": 16,
      "outputs": [
        {
          "output_type": "stream",
          "name": "stdout",
          "text": [
            "--------------------------------------------------\n",
            "LogisticRegressionCV\n",
            "              precision    recall  f1-score   support\n",
            "\n",
            "           0       0.98      1.00      0.99       954\n",
            "           1       0.97      0.91      0.94       161\n",
            "\n",
            "    accuracy                           0.98      1115\n",
            "   macro avg       0.98      0.95      0.96      1115\n",
            "weighted avg       0.98      0.98      0.98      1115\n",
            "\n",
            "--------------------------------------------------\n",
            "SVC\n",
            "              precision    recall  f1-score   support\n",
            "\n",
            "           0       0.98      1.00      0.99       954\n",
            "           1       0.98      0.88      0.93       161\n",
            "\n",
            "    accuracy                           0.98      1115\n",
            "   macro avg       0.98      0.94      0.96      1115\n",
            "weighted avg       0.98      0.98      0.98      1115\n",
            "\n",
            "--------------------------------------------------\n",
            "DecisionTreeClassifier\n",
            "              precision    recall  f1-score   support\n",
            "\n",
            "           0       0.98      0.99      0.98       954\n",
            "           1       0.91      0.87      0.89       161\n",
            "\n",
            "    accuracy                           0.97      1115\n",
            "   macro avg       0.94      0.93      0.94      1115\n",
            "weighted avg       0.97      0.97      0.97      1115\n",
            "\n",
            "--------------------------------------------------\n",
            "ExtraTreeClassifier\n",
            "              precision    recall  f1-score   support\n",
            "\n",
            "           0       0.97      0.97      0.97       954\n",
            "           1       0.84      0.84      0.84       161\n",
            "\n",
            "    accuracy                           0.95      1115\n",
            "   macro avg       0.91      0.91      0.91      1115\n",
            "weighted avg       0.95      0.95      0.95      1115\n",
            "\n",
            "--------------------------------------------------\n",
            "RandomForestClassifier\n",
            "              precision    recall  f1-score   support\n",
            "\n",
            "           0       0.98      1.00      0.99       954\n",
            "           1       1.00      0.85      0.92       161\n",
            "\n",
            "    accuracy                           0.98      1115\n",
            "   macro avg       0.99      0.93      0.95      1115\n",
            "weighted avg       0.98      0.98      0.98      1115\n",
            "\n"
          ]
        }
      ]
    }
  ]
}