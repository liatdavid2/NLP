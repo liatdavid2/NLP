{
  "nbformat": 4,
  "nbformat_minor": 0,
  "metadata": {
    "colab": {
      "provenance": [],
      "collapsed_sections": []
    },
    "kernelspec": {
      "name": "python3",
      "display_name": "Python 3"
    },
    "language_info": {
      "name": "python"
    },
    "accelerator": "GPU",
    "gpuClass": "standard"
  },
  "cells": [
    {
      "cell_type": "code",
      "execution_count": 1,
      "metadata": {
        "colab": {
          "base_uri": "https://localhost:8080/"
        },
        "id": "WHLnv08NCnQm",
        "outputId": "4b12f423-5ea6-40e7-edc2-32ab10d003fa"
      },
      "outputs": [
        {
          "output_type": "stream",
          "name": "stdout",
          "text": [
            "Looking in indexes: https://pypi.org/simple, https://us-python.pkg.dev/colab-wheels/public/simple/\n",
            "Collecting transformers\n",
            "  Downloading transformers-4.24.0-py3-none-any.whl (5.5 MB)\n",
            "\u001b[K     |████████████████████████████████| 5.5 MB 15.6 MB/s \n",
            "\u001b[?25hCollecting datasets\n",
            "  Downloading datasets-2.6.1-py3-none-any.whl (441 kB)\n",
            "\u001b[K     |████████████████████████████████| 441 kB 61.6 MB/s \n",
            "\u001b[?25hRequirement already satisfied: importlib-metadata in /usr/local/lib/python3.7/dist-packages (from transformers) (4.13.0)\n",
            "Requirement already satisfied: tqdm>=4.27 in /usr/local/lib/python3.7/dist-packages (from transformers) (4.64.1)\n",
            "Requirement already satisfied: numpy>=1.17 in /usr/local/lib/python3.7/dist-packages (from transformers) (1.21.6)\n",
            "Collecting huggingface-hub<1.0,>=0.10.0\n",
            "  Downloading huggingface_hub-0.10.1-py3-none-any.whl (163 kB)\n",
            "\u001b[K     |████████████████████████████████| 163 kB 71.1 MB/s \n",
            "\u001b[?25hRequirement already satisfied: filelock in /usr/local/lib/python3.7/dist-packages (from transformers) (3.8.0)\n",
            "Requirement already satisfied: packaging>=20.0 in /usr/local/lib/python3.7/dist-packages (from transformers) (21.3)\n",
            "Requirement already satisfied: requests in /usr/local/lib/python3.7/dist-packages (from transformers) (2.23.0)\n",
            "Collecting tokenizers!=0.11.3,<0.14,>=0.11.1\n",
            "  Downloading tokenizers-0.13.2-cp37-cp37m-manylinux_2_17_x86_64.manylinux2014_x86_64.whl (7.6 MB)\n",
            "\u001b[K     |████████████████████████████████| 7.6 MB 56.5 MB/s \n",
            "\u001b[?25hRequirement already satisfied: regex!=2019.12.17 in /usr/local/lib/python3.7/dist-packages (from transformers) (2022.6.2)\n",
            "Requirement already satisfied: pyyaml>=5.1 in /usr/local/lib/python3.7/dist-packages (from transformers) (6.0)\n",
            "Requirement already satisfied: typing-extensions>=3.7.4.3 in /usr/local/lib/python3.7/dist-packages (from huggingface-hub<1.0,>=0.10.0->transformers) (4.1.1)\n",
            "Requirement already satisfied: pyparsing!=3.0.5,>=2.0.2 in /usr/local/lib/python3.7/dist-packages (from packaging>=20.0->transformers) (3.0.9)\n",
            "Requirement already satisfied: pyarrow>=6.0.0 in /usr/local/lib/python3.7/dist-packages (from datasets) (6.0.1)\n",
            "Collecting dill<0.3.6\n",
            "  Downloading dill-0.3.5.1-py2.py3-none-any.whl (95 kB)\n",
            "\u001b[K     |████████████████████████████████| 95 kB 5.6 MB/s \n",
            "\u001b[?25hCollecting multiprocess\n",
            "  Downloading multiprocess-0.70.14-py37-none-any.whl (115 kB)\n",
            "\u001b[K     |████████████████████████████████| 115 kB 55.9 MB/s \n",
            "\u001b[?25hRequirement already satisfied: fsspec[http]>=2021.11.1 in /usr/local/lib/python3.7/dist-packages (from datasets) (2022.10.0)\n",
            "Requirement already satisfied: aiohttp in /usr/local/lib/python3.7/dist-packages (from datasets) (3.8.3)\n",
            "Collecting responses<0.19\n",
            "  Downloading responses-0.18.0-py3-none-any.whl (38 kB)\n",
            "Requirement already satisfied: pandas in /usr/local/lib/python3.7/dist-packages (from datasets) (1.3.5)\n",
            "Collecting xxhash\n",
            "  Downloading xxhash-3.1.0-cp37-cp37m-manylinux_2_17_x86_64.manylinux2014_x86_64.whl (212 kB)\n",
            "\u001b[K     |████████████████████████████████| 212 kB 74.7 MB/s \n",
            "\u001b[?25hRequirement already satisfied: charset-normalizer<3.0,>=2.0 in /usr/local/lib/python3.7/dist-packages (from aiohttp->datasets) (2.1.1)\n",
            "Requirement already satisfied: yarl<2.0,>=1.0 in /usr/local/lib/python3.7/dist-packages (from aiohttp->datasets) (1.8.1)\n",
            "Requirement already satisfied: attrs>=17.3.0 in /usr/local/lib/python3.7/dist-packages (from aiohttp->datasets) (22.1.0)\n",
            "Requirement already satisfied: frozenlist>=1.1.1 in /usr/local/lib/python3.7/dist-packages (from aiohttp->datasets) (1.3.3)\n",
            "Requirement already satisfied: async-timeout<5.0,>=4.0.0a3 in /usr/local/lib/python3.7/dist-packages (from aiohttp->datasets) (4.0.2)\n",
            "Requirement already satisfied: asynctest==0.13.0 in /usr/local/lib/python3.7/dist-packages (from aiohttp->datasets) (0.13.0)\n",
            "Requirement already satisfied: aiosignal>=1.1.2 in /usr/local/lib/python3.7/dist-packages (from aiohttp->datasets) (1.3.1)\n",
            "Requirement already satisfied: multidict<7.0,>=4.5 in /usr/local/lib/python3.7/dist-packages (from aiohttp->datasets) (6.0.2)\n",
            "Requirement already satisfied: chardet<4,>=3.0.2 in /usr/local/lib/python3.7/dist-packages (from requests->transformers) (3.0.4)\n",
            "Requirement already satisfied: idna<3,>=2.5 in /usr/local/lib/python3.7/dist-packages (from requests->transformers) (2.10)\n",
            "Requirement already satisfied: urllib3!=1.25.0,!=1.25.1,<1.26,>=1.21.1 in /usr/local/lib/python3.7/dist-packages (from requests->transformers) (1.24.3)\n",
            "Requirement already satisfied: certifi>=2017.4.17 in /usr/local/lib/python3.7/dist-packages (from requests->transformers) (2022.9.24)\n",
            "Collecting urllib3!=1.25.0,!=1.25.1,<1.26,>=1.21.1\n",
            "  Downloading urllib3-1.25.11-py2.py3-none-any.whl (127 kB)\n",
            "\u001b[K     |████████████████████████████████| 127 kB 54.0 MB/s \n",
            "\u001b[?25hRequirement already satisfied: zipp>=0.5 in /usr/local/lib/python3.7/dist-packages (from importlib-metadata->transformers) (3.10.0)\n",
            "Collecting multiprocess\n",
            "  Downloading multiprocess-0.70.13-py37-none-any.whl (115 kB)\n",
            "\u001b[K     |████████████████████████████████| 115 kB 67.1 MB/s \n",
            "\u001b[?25hRequirement already satisfied: pytz>=2017.3 in /usr/local/lib/python3.7/dist-packages (from pandas->datasets) (2022.6)\n",
            "Requirement already satisfied: python-dateutil>=2.7.3 in /usr/local/lib/python3.7/dist-packages (from pandas->datasets) (2.8.2)\n",
            "Requirement already satisfied: six>=1.5 in /usr/local/lib/python3.7/dist-packages (from python-dateutil>=2.7.3->pandas->datasets) (1.15.0)\n",
            "Installing collected packages: urllib3, dill, xxhash, tokenizers, responses, multiprocess, huggingface-hub, transformers, datasets\n",
            "  Attempting uninstall: urllib3\n",
            "    Found existing installation: urllib3 1.24.3\n",
            "    Uninstalling urllib3-1.24.3:\n",
            "      Successfully uninstalled urllib3-1.24.3\n",
            "  Attempting uninstall: dill\n",
            "    Found existing installation: dill 0.3.6\n",
            "    Uninstalling dill-0.3.6:\n",
            "      Successfully uninstalled dill-0.3.6\n",
            "Successfully installed datasets-2.6.1 dill-0.3.5.1 huggingface-hub-0.10.1 multiprocess-0.70.13 responses-0.18.0 tokenizers-0.13.2 transformers-4.24.0 urllib3-1.25.11 xxhash-3.1.0\n"
          ]
        }
      ],
      "source": [
        "# Transformers installation\n",
        "! pip install transformers datasets"
      ]
    },
    {
      "cell_type": "markdown",
      "source": [
        "#Audio classification\n",
        "\n",
        "Audio classification assigns a class to an audio signal. \n"
      ],
      "metadata": {
        "id": "v0emvQghENys"
      }
    },
    {
      "cell_type": "code",
      "source": [
        "from transformers import pipeline\n",
        "from datasets import load_dataset\n",
        "\n",
        "dataset = load_dataset(\"PolyAI/minds14\", name=\"en-US\", split=\"train\")\n",
        "dataset = dataset.sort(\"lang_id\")\n",
        "audio_file = dataset[1][\"audio\"][\"path\"]\n",
        "\n",
        "speech_recognizer = pipeline(task=\"automatic-speech-recognition\", model=\"facebook/wav2vec2-base-960h\")\n",
        "speech_recognizer(audio_file)"
      ],
      "metadata": {
        "colab": {
          "base_uri": "https://localhost:8080/"
        },
        "id": "ArV_QqHSENUD",
        "outputId": "1a164356-7269-4e62-8f6f-8aa5bd579442"
      },
      "execution_count": 23,
      "outputs": [
        {
          "output_type": "stream",
          "name": "stderr",
          "text": [
            "WARNING:datasets.builder:Found cached dataset minds14 (/root/.cache/huggingface/datasets/PolyAI___minds14/en-US/1.0.0/aa40414f15e0f919231d617440192034af844835dc1e6a697f4b552e0551fd26)\n",
            "Some weights of Wav2Vec2ForCTC were not initialized from the model checkpoint at facebook/wav2vec2-base-960h and are newly initialized: ['wav2vec2.masked_spec_embed']\n",
            "You should probably TRAIN this model on a down-stream task to be able to use it for predictions and inference.\n"
          ]
        },
        {
          "output_type": "execute_result",
          "data": {
            "text/plain": [
              "{'text': 'A I WAS CALLING TO SEE MY RECENT TRANSACTION HISTORY'}"
            ]
          },
          "metadata": {},
          "execution_count": 23
        }
      ]
    },
    {
      "cell_type": "code",
      "source": [
        "print(audio_file)"
      ],
      "metadata": {
        "colab": {
          "base_uri": "https://localhost:8080/"
        },
        "id": "QxfhqPTIHAPY",
        "outputId": "cb657170-9b20-40b8-f49a-e952780d7d8f"
      },
      "execution_count": 17,
      "outputs": [
        {
          "output_type": "stream",
          "name": "stdout",
          "text": [
            "/root/.cache/huggingface/datasets/downloads/extracted/dfbece23564f422bc5794f3090902cd16d52d86767b746125ebc2ff3ea5f89ef/dev_clean/1272/128104/1272-128104-0001.flac\n"
          ]
        }
      ]
    },
    {
      "cell_type": "code",
      "source": [
        "# lib to convert .flac to .wav\n",
        "!pip install pydub"
      ],
      "metadata": {
        "colab": {
          "base_uri": "https://localhost:8080/"
        },
        "id": "swpBoMV_GHcn",
        "outputId": "08784bc7-ee1b-4f35-9d22-639894c74873"
      },
      "execution_count": 10,
      "outputs": [
        {
          "output_type": "stream",
          "name": "stdout",
          "text": [
            "Looking in indexes: https://pypi.org/simple, https://us-python.pkg.dev/colab-wheels/public/simple/\n",
            "Collecting pydub\n",
            "  Downloading pydub-0.25.1-py2.py3-none-any.whl (32 kB)\n",
            "Installing collected packages: pydub\n",
            "Successfully installed pydub-0.25.1\n"
          ]
        }
      ]
    },
    {
      "cell_type": "code",
      "source": [
        "print(audio_file)\n",
        "\n",
        "from pathlib import PurePath\n",
        "from pydub import AudioSegment\n",
        "\n",
        "file_path = PurePath(audio_file)\n",
        "\n",
        "flac_tmp_audio_data = AudioSegment.from_file(file_path, file_path.suffix[1:])\n",
        "\n",
        "flac_tmp_audio_data.export(file_path.name.replace(file_path.suffix, \"\") + \".wav\", format=\"wav\")"
      ],
      "metadata": {
        "colab": {
          "base_uri": "https://localhost:8080/"
        },
        "id": "JaRtGkFCFfhU",
        "outputId": "407f8fc2-1a69-4212-838b-b42e8c334ebf"
      },
      "execution_count": 24,
      "outputs": [
        {
          "output_type": "stream",
          "name": "stdout",
          "text": [
            "/root/.cache/huggingface/datasets/downloads/extracted/f14948e0e84be638dd7943ac36518a4cf3324e8b7aa331c5ab11541518e9368c/en-US~LATEST_TRANSACTIONS/602bac7505f96973d67944ce.wav\n"
          ]
        },
        {
          "output_type": "execute_result",
          "data": {
            "text/plain": [
              "<_io.BufferedRandom name='602bac7505f96973d67944ce.wav'>"
            ]
          },
          "metadata": {},
          "execution_count": 24
        }
      ]
    },
    {
      "cell_type": "code",
      "source": [
        "# lib play .wav in colab\n",
        "!pip install gtts"
      ],
      "metadata": {
        "colab": {
          "base_uri": "https://localhost:8080/"
        },
        "id": "g7HOFtmJGmNX",
        "outputId": "70c40d33-24cf-4d91-aa82-e266d238ff08"
      },
      "execution_count": 13,
      "outputs": [
        {
          "output_type": "stream",
          "name": "stdout",
          "text": [
            "Looking in indexes: https://pypi.org/simple, https://us-python.pkg.dev/colab-wheels/public/simple/\n",
            "Collecting gtts\n",
            "  Downloading gTTS-2.2.4-py3-none-any.whl (26 kB)\n",
            "Requirement already satisfied: six in /usr/local/lib/python3.7/dist-packages (from gtts) (1.15.0)\n",
            "Requirement already satisfied: click in /usr/local/lib/python3.7/dist-packages (from gtts) (7.1.2)\n",
            "Requirement already satisfied: requests in /usr/local/lib/python3.7/dist-packages (from gtts) (2.23.0)\n",
            "Requirement already satisfied: urllib3!=1.25.0,!=1.25.1,<1.26,>=1.21.1 in /usr/local/lib/python3.7/dist-packages (from requests->gtts) (1.25.11)\n",
            "Requirement already satisfied: chardet<4,>=3.0.2 in /usr/local/lib/python3.7/dist-packages (from requests->gtts) (3.0.4)\n",
            "Requirement already satisfied: idna<3,>=2.5 in /usr/local/lib/python3.7/dist-packages (from requests->gtts) (2.10)\n",
            "Requirement already satisfied: certifi>=2017.4.17 in /usr/local/lib/python3.7/dist-packages (from requests->gtts) (2022.9.24)\n",
            "Installing collected packages: gtts\n",
            "Successfully installed gtts-2.2.4\n"
          ]
        }
      ]
    },
    {
      "cell_type": "code",
      "source": [
        "from gtts import gTTS\n",
        "from IPython.display import Audio\n",
        "from IPython.display import display\n",
        "#tts = gTTS(\"Hello {}\".format(voice)) \n",
        "#tts.save('1.wav')\n",
        "sound_file = '/content/602bac7505f96973d67944ce.wav'\n",
        "wn = Audio(sound_file, autoplay=True) ##\n",
        "display(wn)"
      ],
      "metadata": {
        "colab": {
          "base_uri": "https://localhost:8080/",
          "height": 75
        },
        "id": "RtbkXwT7GeIN",
        "outputId": "e8e95e64-3fc1-43fb-ab97-597de2f96305"
      },
      "execution_count": 25,
      "outputs": [
        {
          "output_type": "display_data",
          "data": {
            "text/plain": [
              "<IPython.lib.display.Audio object>"
            ],
            "text/html": [
              "\n",
              "                <audio  controls=\"controls\" autoplay=\"autoplay\">\n",
              "                    <source src=\"data:audio/x-wav;base64,UklGRnmNAABXQVZFZm10IBAAAAABAAEAQB8AAEAfAAABAAgAZGF0YVWNAACAgICAgH+AgICAgH+AgICAgICAgICAgICAgIB/gICAgICAgICAf4CAgH+AgICAgICAgICAgICAgH+AgIB/gICAgICAgICAgICAgIB/gICAf4CAgICAgICAgICAgICAgH+AgICAgICAgICAgICAgH+Af4CAgICAgICAgICAgICAgICAgH9/gICAgH+AgICAgICAgICAgH+AgH9/gH+Af4CAgICAgICAgICAgICAgICAgICAgH+AgICAgIB/gICAgICAf4CAgIB/gICAgICAgICAgICAgICAgICAgICAgICAgICAgICAgICAgH+AgICAgICAgICAgICAgIB/gICAgICAgH+AgICAgIB/f4B/gH9/f39/f39/f39/f39/f39/f4B/gICAgICAgICAgICAgICAgICAgICAgICAgICAgICAgICAgICAgH+AgICAgH+AgIB/gH9/f4CAgICAgIB/gICAf4CAgICAgICAgICAgICAgICAgICAgH+Af4B/f3+Af3+Af39/f3+Af3+Af4B/f4CAgIB/gIB/gICAgICAgICAgICAgICAgICAf4CAf4CAf3+Af39/f39/f39/f39/f39/f39/f39/f3+Af3+AgICAgICAgICAgICAgICAgICAgICAgICAgICAgICAgIB/f39/f39/f39/f39/f39/f39/f39/f39/gICAgICAgICAgICAgICAgICAgICAgICAgICAgICAgICAgICAgICAgIB/f39/f4B/f39/f39/f39/f39/f39/f39/f39/f39/f39/f39/f39/f39/gH9/f3+AgICAgICAgICAgICAgICAgICAgICAgICAgICAgICAgICAgICAgICAgICAgIB/gH+Af39/f39/f39/f39/f39/f39/f39/gH9/gH9/f4CAgICAgICAgICAgH9/f39/f39/f39/f39/f39/f39/f39/f39/f39/f39/gH9/gICAgICAgICAgICAgICAgICAgICAgICAgICAgICAgICAf4CAf39/gIB/f39/f39/gICAf39/f4B/f3+AgICAgICAgICAgICAgICAgICAgICAgICAgICAgICAgIB/f39/f39/f39/f39/f39/f39/f3+AgH9/f4B/f4B/gICAgICAgICAgICAgICAgICAgICAgICAf4CAgICAf39/f39/f39/f39/f39/f39/gICAf4CAgICAgICAgICAgICAgICAgICAgICAgIB/gICAgH9/gICAgICAgICAgICAgICAgICAgICAgICAgICAgICAgICAgICAgICAgICAgH+AgICAf39/gH9/gH9/f39/f39/f39/f39/f39/f39/f39/f4CAgICAgICAgICAgICAgICAgICAgICAgICAgICAgICAgICAgICAf39/f39/f39/f39/f39/f3+Af4CAgICAgICAgICAgICAgICAgICAgICAgICAgICAgICAgICAgH9/f39/f39/f39/f39/f39/f39/f39/f39/gH9/f3+AgICAgICAgICAgICAgICAgICAgICAgICAgICAgH9/f39/f39/f39/f39/f39/f39/f39/gH+AgICAgICAgICAgICAgICAgICAgICAgICAgICAgIB/f39/f39/f39/f39/f39/f39/f39/f39/f4CAgICAgICAgICAgICAgICAgICAgICAf39/f39/f39/f39/f39/f4B/f4B/gICAgICAgICAgICAgICAgICAgICAgICAf4B/gIB/gICAgH9/gH9/gH9/gIB/f39/gICAgH+AgICAgICAgICAgICAgICAf4CAgH9/f39/f39/f39/f39/f39/f39/f39/f39/f39/f39/f3+Af39/gICAgICAgICAgICAgICAgICAgICAgICAgICAgIB/gICAf4CAgICAgH+Af4CAf39/gICAf4CAf3+Af4CAgICAgICAgICAgIB/gICAf4B/f4CAgICAf3+AgICAgICAf3+Af39/f4B/f39/gH+AgH9/f3+Af4CAgICAgICAgICAgH9/f3+Af3+Af39/f39/gICAgICAgICAgICAgICAgICAgICAgICAgICAgICAf4CAgICAgIB/gICAf4CAf4CAf4CAgICAgICAgICAgICAgICAgICAgH+AgICAf4CAgICAgICAgICAgH+Af4B/gH9/f4B/gH+Af39/f4CAgIB/gICAgICAgH+AgICAgICAgICAgICAgICAgICAgIB/gICAgICAgICAgICAf4B/f4B/gH+Af4B/gICAgH+AgICAgICAgICAgICAgICAgICAgICAgICAgICAgICAgICAf4CAgICAf4CAgICAgIB/f4CAgICAgICAgICAgICAgICAgICAgIB/gICAgH+Af3+Af39/f39/f39/f4B/gICAgICAgICAgH+AgICAgICAgH+AgICAgICAgICAgIB/gICAgICAgICAgICAgICAf3+AgICAgICAgH+AgICAgICAgICAgICAgICAgICAgICAgICAgICAgICAgICAgICAgICAf39/f39/f39/f4B/f4CAf39/f4B/f39/gICAgICAf4CAf4CAgH9/f4CAgICAgH+AgICAgICAgICAgICAf39/f4B/gICAgICAf4CAgICAgICAgICAgICAgICAgICAgICAgICAgICAgICAgICAgICAgICAgICAgICAgICAf39/f4CAgICAf4CAgICAgH9/f4B/f39/f39/f39/f39/f4CAgICAgICAgICAgICAgICAgICAgICAgICAgICAgH+Af39/gIB/f39/f39/f39/f39/f39/f4CAgICAgIB/gICAgICAgICAgICAgICAgICAgICAgICAgICAgICAgICAgICAgIB/gICAf39/f39/f39/f39/f39/f4CAgH+AgICAgICAf4CAgICAgICAgICAf4B/gICAgIB/f4B/f39/f39/f39/f39/gH+AgICAgH+AgH+AgICAgICAgICAgICAgICAgICAgICAgICAgICAf39/gICAgICAf4CAgICAgICAgICAgICAgICAgICAgICAgICAgICAgICAgIB/gIB/f4CAf39/f39/f39/gH+AgH9/f39/f39/f39/f39/f3+AgIB/gICAgICAgICAgICAgH+Af4B/gICAf39/f4B/f4B/gICAgICAgH+Af4B/f39/f39/f3+AgICAgICAgICAgICAgICAgICAgICAgICAgICAgH9/gH9/f39/f39/f39/f39/f39/f3+AgICAf4CAgICAgICAgICAgICAgICAgICAgIB/gICAf4CAf4B/f39/gICAf3+Af4CAf39/f39/f39/f39/f39/f39/f39/gICAgICAgICAgICAgICAgICAgICAgICAgICAgICAgICAgICAgICAgICAgICAf39/gH9/f4CAgICAgICAgICAf4CAgICAgICAgICAf39/f4B/f39/f4CAgH+Af4CAgIB/gICAgICAf39/f39/f39/f3+AgICAgICAgICAgICAgICAgICAgIB/f39/f3+AgICAgICAgICAgICAgICAgH+AgH+AgICAgICAf4CAgICAgICAgICAgICAgICAgICAgICAgICAgICAgICAgIB/gICAgICAgIB/f39/f39/f39/gH9/f3+AgICAgICAgICAgICAgICAgICAgIB/gICAgIB/f39/f3+AgH9/gH+AgICAf3+Af3+Af4B/gICAgICAgICAgICAgICAgICAgICAgICAgICAgICAgIB/gICAf3+Af4CAf4B/f4B/f39/f39/f39/gIB/f4CAf4CAgICAgICAgICAgICAgICAgICAgICAgH+Af39/f3+AgH9/f39/f39/f39/f39/f39/f3+AgH+AgICAgICAgICAgICAgICAgICAgICAgICAgICAgICAgH+Af39/f39/gH9/gICAgICAgICAgICAgICAgICAgICAgICAgICAgICAgICAgICAgICAf39/f39/f39/f39/f3+Af3+AgICAgICAgICAgICAgICAgH+AgIB/gH+AgICAgH+AgIB/f39/f39/f39/f4CAf3+AgICAgICAgICAgIB/gICAgICAgICAgICAgICAgICAgICAgICAgICAgICAgH+AgH+AgICAf4CAgH9/gICAgICAgH9/gICAgH+AgICAgICAgICAgICAgICAgICAgICAf4CAf4B/f39/f39/f39/f39/f39/f3+Af4B/gICAgICAgICAgICAgICAgICAgH+AgICAgICAgICAgICAgH9/gIB/f4CAf39/gH9/f4B/f4B/gH+AgICAgICAgICAgICAgICAgICAgICAgICAgICAgICAgICAgICAgIB/f4B/f39/f39/f39/f39/f39/f39/f39/f39/f3+AgH9/gICAgICAgICAgICAgICAgICAgICAgICAf4CAgH+AgH+AgICAf4CAf4B/gICAgICAgICAgH9/f39/gICAgICAgICAgICAgICAgICAgICAgICAgICAgICAgICAf4CAgIB/f4B/gICAgIB/gIB/gICAf4CAf4CAgH+AgICAgICAgICAgICAf4CAgH9/gICAgICAgH9/f4CAgH9/gICAf39/f39/gH+AgICAgICAgICAgICAgICAgICAgICAgICAgICAgIB/f4CAgICAgICAgICAf4B/gICAgICAgICAgICAgICAgICAgICAgICAgICAgICAgICAgICAf3+Af4B/gIB/gIB/f39/f39/f39/f39/f3+Af39/gICAgICAgICAgICAgICAgICAgICAgICAgICAgICAf4B/gH+Af39/f39/f39/f3+AgH9/gH+AgIB/gICAgICAgICAgICAgICAgICAgICAgICAgICAgICAgICAgICAf4CAf4B/f4B/gH+Af39/f39/f39/f39/gH9/gICAf4B/gICAgICAgICAgICAgICAgICAgICAgICAf4B/gH9/f3+AgICAgICAf3+AgIB/gICAgICAgICAgICAgICAgICAgICAgICAf4CAgICAgICAgICAgICAgICAf4CAgICAgIB/gICAgICAgICAgICAgICAgICAgICAgICAgIB/gH9/f4B/f39/f39/f39/f39/f39/f39/f39/gICAgICAgICAgICAgICAgICAgICAgIB/gICAgICAf4CAf39/f39/f4CAf4CAf4CAgH+AgH+AgICAgICAgICAgICAgICAgICAgICAgICAgICAgICAgICAgH9/gICAgICAf4B/gICAf39/f39/f39/f39/f39/f39/gH+Af4CAgICAgICAgICAgICAgICAgICAgICAgICAgICAgICAgIB/f39/f39/f39/f39/f39/gH9/gH9/gICAf4CAgICAgICAgICAgICAgICAgICAgICAgICAgICAgICAgICAgICAgICAgICAgH+Af39/f4B/f3+AgH9/f39/f39/f39/f39/f39/f39/gICAgICAgICAgICAgICAgICAgICAgICAf4B/gICAgIB/f39/gICAgIB/gICAf4CAgH9/gIB/f3+Af3+AgH+AgICAf4CAgICAgIB/gICAf4CAgICAgICAgICAgICAgICAgICAgICAf3+Af39/gH9/f4B/f3+Af39/gIB/gICAgH+AgH+AgIB/gICAgICAf3+AgH9/f4B/f3+Af39/gIB/gICAgICAf3+AgICAgICAf3+AgICAgH9/gIB/f4CAgH+AgIB/gIB/f4CAgH+AgICAgICAf4CAgH+AgIB/f4B/f4CAgICAgICAgICAgICAgICAgICAgIB/f4B/f4CAf3+AgH9/gIB/gICAf3+AgICAgICAgIB/f3+AgICAgICAgICAgICAgIB/f4B/f4B/f3+AgH9/f39/f4B/f4CAgICAgICAgICAgICAgICAgICAgIB/f4CAf4CAgICAgICAgICAgICAgICAgICAgICAgICAgICAgICAgIB/gICAf39/f39/f39/f4CAf3+AgH9/gIB/f4B/f3+AgICAgICAgICAf4CAgH+AgIB/f4CAf4CAgICAgIB/gIB/f4CAgH+AgIB/gIB/f39/f39/f39/f4B/f4B/gICAgICAgICAgICAgICAgICAgICAgICAgICAgICAgIB/f4CAf3+Af3+AgIB/f4CAf3+AgH+AgIB/gICAgICAgICAgIB/gICAf4CAf39/gIB/gIB/f3+Af39/gIB/f4CAgICAgH9/gIB/f4CAf4CAgH+AgIB/gICAgICAgH+AgICAgICAf4CAgIB/gIB/f4CAf4CAgH+AgIB/gICAgICAgICAgICAgICAgICAgICAgICAgICAgICAgICAgICAgH+AgH+AgIB/gICAf39/f39/gH9/f3+Af3+AgIB/gICAgICAgICAgICAgICAgICAgH+AgIB/f39/f39/f39/f39/f3+Af39/f4B/f3+AgICAgICAgICAgICAgICAgICAgICAgICAgICAgICAgICAgICAf39/f39/f39/f39/f39/f39/f39/f4CAf4CAgICAgICAgICAgICAgICAgICAgICAgICAgH+AgH+AgH+Af39/f39/f39/f39/f39/f39/f39/f39/f39/f4CAgICAgICAgICAgICAgICAgICAgICAgICAgH9/f3+Af4B/f39/f39/f39/f39/f3+Af39/gICAgICAgICAgICAgICAgICAgICAgICAgICAgH9/f4CAf39/f39/f39/f39/f39/f39/gH9/f39/f3+AgH+AgICAgH+AgICAgICAgICAgICAgICAf4CAgH9/f4CAgIB/f4CAgH9/gH9/f4CAf39/f3+Af3+AgICAgICAgICAgICAgICAgICAgICAgICAgICAgICAgIB/gICAgH9/f4CAgICAf4B/f4B/gICAgICAgICAgICAgICAgICAgICAgICAgICAf4CAf3+Af39/f39/f39/f39/f39/f39/f39/gH9/gICAgICAgICAgICAgICAgICAgICAgICAgICAgICAgICAgIB/f39/f39/gH9/f39/f39/f39/gH9/f4CAgICAgICAgICAgICAgICAgICAgICAgICAgICAgICAgICAgIB/f39/f39/f39/f39/f39/f39/f39/f39/f3+AgICAgICAgICAgICAgICAgICAgICAgIB/gH9/f39/f39/f39/f39/f39/f39/gICAgICAgICAgICAgICAgICAgICAgICAgICAgICAgICAgICAgICAgICAgH9/f39/f39/f39/f39/f39/f3+Af4B/gIB/gH+AgH9/f4CAgICAgICAgICAgICAgICAgICAgICAgIB/f39/f39/f39/f4B/gIB/f4CAgICAgH+AgICAgICAgICAgICAgICAgH+Af39/f4B/gH+Af4CAf4B/gH+AgICAf4CAgIB/gIB/gICAf4CAgIB/gICAgH+AgH+AgIB/gH+Af4B/gIB/f3+Af39/f3+Af3+AgH9/f4CAgH9/f3+AgIB/f39/gICAf3+Af4CAgH9/gH+AgH9/f4CAgH9/gH+AgIB/f4CAgH9/f3+Af4B/f39/gH+Af4CAgIB/f4B/f4CAf3+Af4CAgIB/gH+Af3+Af4CAgH9/gICAf39/f4B/gH9/gICAf4B/f3+Af39/gH9/gH9/f4B/gIB/f3+AgH9/f4CAgIB/gH+AgH9/f4CAgH9/gICAgH9/f4B/gIB/gICAgIB/f4CAgH9/f4CAf39/f4CAgICAgH+AgIB/gH+AgIB/gICAgICAf4CAgICAgICAgH+AgICAgICAgICAgICAf4CAgIB/gH+AgH9/f39/gICAgICAgICAgICAf4B/gICAf3+AgICAf3+Af39/f39/f3+Af3+Af4CAgIB/f39/f39/f4B/gICAgICAgICAgH9/f39/gH9/f4CAgIB/gICAgICAgICAf4CAgH9/f3+Af4CAgICAgICAgICAgICAgICAgICAgICAgICAgICAgICAgICAgICAgIB/f3+Af4B/f39/f39/f39/f39/f39/f39/gICAgH+AgH+AgICAgICAgICAgICAgICAgICAgIB/gICAf39/f39/f3+AgH9/f39/f39/f39/f39/gH9/f39/gICAgICAgICAgICAgICAgICAgICAgICAgICAgICAgICAgICAf4CAf39/f39/f39/f39/f39/f3+Af3+AgICAgICAgICAgIB/gIB/gICAgIB/gICAf39/f3+Af4CAgH9/f3+AgICAgICAf4CAf4B/gICAgICAgH9/gICAf4CAgICAgICAgICAgICAgICAgICAgICAgICAgICAgICAgICAf4B/gICAgICAf3+AgICAf4CAgICAgICAgICAgICAgIB/gH+Af3+Af39/f39/gH9/f39/f4B/f4CAgICAgICAgICAgICAgICAgICAf4CAgICAgICAgH+Af4B/f39/gH+Af4CAgICAgICAgICAgICAgICAgICAgICAgICAgICAgICAgICAgICAgICAgICAf4CAgICAgICAf39/f4CAgH+AgICAgICAgICAgICAgICAf3+Af4CAgH+Af3+AgICAgICAgICAgICAf39/gICAgICAgICAgIB/gICAgICAf4B/gH9/f4CAgICAgICAgIB/f3+AgICAgICAgH+AgICAgICAgICAgICAgICAgICAgICAgICAgICAgICAgICAgICAgIB/gICAgICAgH9/gIB/f4CAgH9/f3+AgH9/f39/gIB/gIB/gIB/gICAgICAf4CAgICAgICAgICAgIB/gH9/gH+AgH+AgH9/f39/gH9/gH+AgICAgH+AgICAgICAgICAgICAgICAgICAgICAf39/f4CAf39/f4CAgICAgICAf39/f4CAgIB/f39/gICAf39/f39/f3+Af39/f4CAgICAgICAgIB/f4CBgYF9fICAhHx3eXmDg4OCf4SDg4B7fn+EhoOCgIKCgn54eXuAgoGAf4CBgH58fH5/gYB/fn+AgIB/f4CAgYGAgICAgIB/f35+f39/f39/f39+f39/f3+AgICAgICAgICAgIGBgH9/gICAf39/gIB/f35+f4CAgH9/f3+Af39/f4B/f4B/gH9/f4CAf39/gICAgH+AgICAf4CBgYGAgH+Af3t5eXx+fn5+gIGCgH5+f4KEhISDhISDgoGBgYGBgYGBgIB+foCAf319f4B/fHp7foF/fXx8f4GAfn6AgYF+fn+AgoF/fn5/f315fICCgn17e36Af39+gIKCgH1/gYODg4ODhISCgYGDhYSDgoGCgYB+gIGCgX99f4GBf3x7fHx9fX1+f4GBf319fn9/f4GBgH59foCAgH58fX19fHp6e31/fn19gIKBf31+gYWDg4KBgoB8fH+Dg4B/f4B/gICBg4SCgH9/gYKCgoGCgoB+fX5+f39+gYKGg358e3x/gX96eX2DhYJ+e36EhoB6eHyEhYWAfn1+fn19e3yCg4GBfXx7f4SEgn1/gYOCfHl6gYaEf3x+f359fYCFhYF/fH5+gIB9gIGCf319fn59fn2AgYB+e3yDhoSBfn+AgIGCgoKBgHt5fH9/gX9+fn6AgIKDgYCAgoKCgICFh4WAeHh9fYN/foCAg4B+eHV8g4aBe3x8f318e3yEhoR/fHyChYWCf3+Dg4J+fX+Bg3+BgX9/fX59fHx/f36AgoGAf4KCfn2Ag4J/gIB9fHh7fX+Af357fH1/f35/gIKCgX59gYWEgX6BhIWFhIJ/f4GFhYOBfX+Dgn58f4CBe3x6fX99fHp+gIJ+eHV4e36AgYGBgX+Cf359foKDhH9+fn+BgIGChYWEgYCBg4OBgIOIiISDgoODf3x8gYeIg4B+fn+Cfn18ent4d3h7endzc3R2eXp7enx7e3t7fX+AgYGCgoOCgIGDhoiIiIWCfoGJjo+KhoSEhYaIio6Sj4mFhIaGgn58foB+eHNvbm9vbGhlaGxvbWtqa21wcnN0eXx+f4CBhYiLi4uOkpeZmZiXl5qcnJuam5ydnJuZmJaQg3pzb2pmY2NmY19XU1dbW1tdY2praGZmaW1ydHZ5fIGFh4mMj5KVmJqdoKSqrKqknp2eoqamqqqopKSajYBxaGFdXVlXWVlXT0tJS1ddY2Rmam5xcXBwc3d5fn9/gYWJjI2OkJGSlJSSk5WYnqiqpJ2Zmp6iqKqusLKwopB7ZVlVV11fX1lVUU9LSUlPWWJrbm1tbnFydHZ5fYCEhoaGiIuPk5KQj46Pj4+PkpadpKiinJqbnaKqsLi6uqiSeWFVUVdfZWZhWVFJRUNHT1lka25ub3BwcHJ2fIKIiomGhYaKjY+RkZCOjIqIiIuQlJqgpKSgmpqcoKautry6qpN6YlNPV2FmZ2JbU0tHRUdRW2ZtcG9tcHJ1d3l9goiLi4iEhIeLjo6OjIuJh4aFiIyQlZuipqKcmZqdpq60uLywnIZrWU9TXWRnY11XUU1HR01XY2xwcHBwc3Z2d3l/hoqLiomIh4iJioqKi4qJiIeGiIyPk5edpKSinp2doqiwuLqsmoFoW1VXW2JlZGFXUUtJTVNbY2tvcHBxcnR3eHyAg4eJiomHh4iJi4uMjIuKh4WFhoqOkpacoqSgm5maoKiutraqmIRrW1NVXWRoZ2JbVVFLTVNbZWxxcnJxcXR2eHp+g4iKiomHhoeIioqMjIyKh4aGh4mNkZacpKagmpiZnqawtriqloFsW1NVW2VqamRbVVFPTVFZZW5yc3JwcXN3e3t9goiLiYiGh4mLjIuKioqKh4WFhoqNkJOZoKKgmpiZnaSstLaoloRtXVVVXWRpamddV1FNTVNdZm1xcnJycnJ1eXuAhIiJiYmHiYmLi4qLi4uJhoWFiIuNj5GWnKKim5mZm6KqsrSoloNvX1dZXWNoaWZfV1NRU1ddZm1xc3JzdHV2en5+g4aIiYiJiYmJiouKi4mHhYWFhoiJjI+SmJ2gnZuampykrLKunIt5ZVdXXWRpaWdhW1dTUVNdZ29xcXFydXZ3eHyBgoWHiIiJiYqLiImJiImJiIaEhYaJiYuOkpmgopyYl5ieqLCyppiJdWRXV11jaGppY11XU1NXXWZtc3R1dXV2dnl8goSEh4mLiomIiImJiomIh4aFhISEhomLjY+UmZ6empiXmJ6msKydj3xoW1dbYmltbGlhW1NRVVtmbnN2dnZ1dHR2eoCGiIiIiYmIh4aGiYqKiIaGhoWDgoOGioyOkJSZnJuXlpicoqquqJeKeWpfW1tiaGxrZl1ZV1dZX2Ztc3d3dnV1d3p8gISJi4iHiYmIiIeHiYmIhIOChISCgoOGiouLjI+UmZuYl5eZnKKorKCOgW9iXV1fZGpsamRbV1VZX2VqcHR3eXh2d3h8f4KFiIuLi4uJh4eHiIeHh4WDg4OCgoOFhomKi42PkpaYmZiXmJqgqKiajYBwY11dX2ZtbmtkXVlXW19la3N4eXh3eHp7e32BhoqMi4iJioqHhYWGiYeDgICDhIOBgoaJi4qKjZKWlpWUlpiZmqCooJKDcGViX19jam1ual9ZWVtfZWludXl6enl4e31+gIOGioyNjYmIiYmGhYSDhYSBf3+Bg4ODg4aJjIyMj5OWl5aVl5iboKSek4h1aWJdX2NobW9sZmFdXV9kaXB0enx9fHt7e3x/gYaJjY2KiomJh4WFhYaEgoCAgoKCgoKFh4iJioyOkZKUlZSVl5mboJ6VjX1tZ19fYmVqbW5qZGJfYWRobXJ4fH5+fX18fX5/goaKjY6PjIaHhoWCgYODhIF+f4CCgYKDhomJiYqNkJKSk5WVlZaYnKCZjoJxaWNfX2JpbnBsZmRiY2Rma3J4e31+gH99e31/goSHio6PjYiIh4aDgoKCg4KAf35/gICAgoWHiImKjI+QkZKUlZSUlZmgmo+Bc21mX11haW5ua2hnZmRjZ21ydnl8f4B/fXx+gIKDhoqMjY2MiIeHhYOBgoGBgYCAfn+BgYKDhYaHiIqMjpCQkJGRkZCRlJeblId8cmxjX19lbGxtbGppZmZnbHBzd3x/gYGAf39/f4GEh4qLiouKiIWFhYSDgoKDgn9/gIGBgYOFhoaHiYqMjY6Pj5CQj4+Qk5eYjH94cWlfXWJqbWxub21qZ2dscHFzeX6AgH+AgICAgIOHiImKjI2GhYeFg4GBgoKAfoCBgYGBhIaHhoiLjIyNjo+Qj4+PkZGTmZOJgndwZ2FfZGhpbW1tbWppamxucHR4fH5/gYKBgYGCg4WHh4mJiYiHhoSEgoGBgICBgYGBgYOEhIaIiouOj5CQkJCQj5CRkpiWjIV6c2pfX2JmaGlsbGxpaWttbm90d3p8foCCgYGChISFh4mLjIuMjYOEhYGAfH9/gIB9goKCg4SGh4mKjI+PkJCRkpGQkZOZl46Jf3VuZV9hZWZobGxrbGpqa21ucHV4e31/gYKBgoOEhYaHiImJiYiIh4SCgoKAfn+AgICAgoSEhIaJiouMjo+Qj5CRkI+QlJiTi4d9dGxiYWNkZWhsbGtqa21tbnB0d3l7foCBgoKDhISFhoiKiYmKioiGhYOBgH5+fn5+f4GBgoSEhoaIioyOj5CQkJGPj5GRlZaOiYF3cGZjYWNlZmpsbGxsbm1vcHF1d3l8f4GBgoODhISGh4iKi4uLi4qKhYGCfn17fH58fn5/gX+Bg4aGhoqLjY2Mjo+Qj4+Pj5CTlIyFf3dvZWNjZGRnbG1tbW9wcHBydXd4e36BgYKDg4SDhIaIiImLjIuLi4qHgYJ+fHt7fXt9fn1/f4GChYeGiYqKi4uNjY2NjY2MjI2QkouDf3lwZmRlZmRnbW1tbW9xcXBzdnh4e3+BgYKFhYSEhYeHiImKi4mKiomIgoCBfXt5fH17fn6AgYCDhYaGh4mIioqLjY2Njo6Mi46PkI6FgX10amdmZWZoa25tbG5wcXFzdnh5e36AgYGDhISEhYeIiIiJiomJh4eGg4GAgH18fX19fH5/gIGChYeHiImMjIuMjIyMjIyLjIyOj4h/fnluaGhnZmdpbG9ubnFycnJ1eHl7fICCgoSFhoWFhoeHiIiJiomIiIiHhnx6gXl4d3uAfH6Ag4J/hIaHiIiNj4+PjpCOi4yNjY2SkISAfXRqZWVmZmZqbm9vbnFzcnJ0eHl5fX+BgoOEhYWEhYiIiIiKioqJhoaFgH59fnx7fHx+fX+BgoODhoeHiYqLjIyMjY6NjI2MjZCSiYB/eW5lZWdmZmhucW9tcHNycXN3eXl7f4ODgoSGhoWEh4iIh4mKioiGh4WCgH9+fn18fX5+foCBgoKDhYeIiIuNjY2MjY6Ni4yOj5ORg319cmdhY2ZmaWxwcm9ucHFxcHN3e3x8gYSEgoOGhYSFh4iJiYmKi4mIiIB+fnx6eX1+fn9/goGAgYKFhoeLjo+Ojo+PjYuMj5GWmIp+fnZoX2FkZ2hqb3NwbW5wcXBwdXl8fH+DhYSCg4WEhIWIiomJioqJh4WDgoB+fX1+fX1+gIGBgYOFhoaHiYuNjIuMjI2NjY6RlZqQfnp2a2FdYmhtbm1xc29sbG9xcXN2fYGAgYKFhIKBgoWFhYeJi4uJiIeHhICAgH9/fn1/gICAgIKDhISGiIqMjY2Njo+OjY6Rk5eZiXh3cmhhX2RrcXBucXFvbWttcXR1eH2BgoKBgoOCgYKEhoiIiIqKiIeEg4OAf35/f4CBgIGDg4ODhIWHiouMjY6PkJCPkJKVmpqGdXNuZl9dYmpzcm1ub3BtaWpvdXh5fH6Cg4GAgIKDg4OFiIqJiIeGh4aDgoGBgICAgIGDg4SFh4eIi42Oj5CQkpOTlZecm4p3cGtoYl9iaXJ1cGxqbG5sa2xxd3t9fX6BgoKAf4CChIWFhoeIh4aEhISDgoGCgoODg4SFiIqLjY6Pj5GSkpOUl5qem4Z0bWdkYl9iZnB0cWxoaWxtbm1vdXuAgH+AgIGBf39/goWGh4iHh4eGhYSEg4SEhISFhoiKjY+QkZOVl5aWmJugnYt4bGdlY2JhZGxxcW5oZmdqbm9wc3h8fn5+fH1/gICBg4WGiImIiIiJiIiIhoWFhYWGiIqMj5GTlZaWl5qdop6Oe25mY2RjYmRpb3Fwa2dmaW1vcXJ0eHx+fnx8fH6AgoKDhYiKjIyLiYiIiIiHhYWHiYuOj5GTlZaWl5qepJ2Pfm5lYWJjZGZpbXBwbmpoaGtucXN1d3l8fX59fH1/gYOFh4mKjIyMi4uKiYiHh4eIioyOkJOUlJSVmZ2ioJGBcWdiYWRkZGhrb3BwbWpqbG9ydHV1dnh7fX59fX5/gYSGiImLjI2NjIqJh4eHiIqLjY+SlJWVlpmdpKKWhnVqY2JjY2RmaW5wcXBubG1ucXR1dHV3eXx9fX1+foGDhomKi4uMjIyLi4mIiYmKjI6QkpSUlJWYnKKdkoN0amVjZGNjZWhsb3BwbW1ucHJzc3R0d3l7fX5+foCDhYeJiYqLjI2Mi4qIiYmKi42PkZOVlJWXmqCelId4bWhlZGRjZGhtcHFwb25vcXN0dHN0dXh6fH19foCChYeIiYmLjI2Mi4qJiYqLjI6PkJKTlJaYm56akYJ0bWdlZGFiZGlvcXJycHJzdHVzc3N0d3h5ent9f4GEhYeIiouLjIuLioqJiYmLjI6PkJGSk5aYm52XjX5zbGZkYV9iZmtwcnJyc3V2d3Z0c3R1dnd4eXx+gIOEhoeJiouLi4uLi4mJiYmKjI+PkZOTlJaYm5yWin1zbGhkX11fZmtvcXFydXd5eHZ1dHV1dXV1eHt9gIKEh4mLjI2MjIyLiomJiYqMj4+QkpKTlZeZnJmPg3dwamZhW11iZ2xucHF1eXl6eHd3d3Z0dHR1eXx8f4KEiIqLi4yMjIyKiIiIiIqMjo+RkpOUlpeYnJaOg3hxa2dhXV9iZ2ttb3J3ent7enp5eXd1dHV3eHp8foKGiIqLjY2NjIuKiYiIh4mLjo+PkJKTlZaXmZWOhXh0bWdiXV1fZWdobHB0eXt7e3t8e3p3dXZ2d3l7fYGFiIqNjo+Pj46Mi4mJiYmLjY2Nj5CQkpKSlJSOioF4dG5oYl9fX2RlZmpucnV4eHp7fHx7enl5e3t8foCEh4qMj5CRkpGQj42LioqKiIiIiYqKjIuLjYyMioWCfnp2cG1paWhmZmZoa25wcXR2eHp6e3p9fX5+f4KEh4iKjI2PkJCPj4+NjIuKioiHhIaFhYSEg4ODgoSAgIB9fHp4dXVzcXBvbm9wcHByc3N2dnl4fX5/g4WEh4WJiIqLho+Fj4eMi4OQgIqGgYh+hn9/hXmDf3yAfH97e393f3l7eHt7dH10fXd8d3t8e358f36BgIN+h3+HhIOIgoeFg4WGgIaAhICBgnyCfYJ8gH98gn9/foB/gH+AfIF+fIJ6gHt+fXt8fXp9gnWDe39+gX6Ag36HfYd/g4SCg4GCgH+CfYB+fn98gHqDe4J5hH6Ag3yDf4R/g32FfYSBf4KBgX+CgIB+gnyAfoF8gIB8g32DfIN/gIB+gnqGeX9/eYR3gnt9fnuDdYl2hn59h3aMd4d7hYJ9hH6GfIZ7hoCBg3qIeoOAeoR5hH19gnqHeoGAfoV6g3qDfH2Cd4N6f4B7gYB+gH6CfoN8hH6Ah3WMeISAgIN/gYCDf4d3iHmGfYJ9fId8hnaIe4N/fIJ/hHl/goGBd36Ef4F2fYSAfnh9g4J+eX2DhX98f4ODfn1+gYGAfH+CgX9+f4B/f39/gYCAgIGBgX9/gYGBf3+AgYCAf39/f4B+fn5/fn5+fn5+fn1+fn9/f3+AgIB/gICAgYCBgYGBgYGBgYGBgYGBgYGBgYGAgYCAgICAgICAgH9/f39/f35+fn5/fn5+fn5+f35/f39/f4CAgICAgICAgICAgICAgICAgICAgICAf39/gIB/f3+Af39/f39/f39/f39/f39/f39/f39/gH+AgICAgICAgICAgICAgICAgICAgICAgICAf4B/gIB/f3+Af4B/f39/f39/f39/f39/f39/f39/f39/gH+AgICAgICAgICAgICAgICAgICAgICAgICAgIB/f39/f39/f39/f39/f39/f39/f39/f39/f39/f39/f39/f3+AgICAgICAgICAgICAgICAgICAgICAf4B/f39/f39/f39/gH+Af3+Af4B/gH9/f39/f39/f39/f39/f4CAgICAgICAgICAgICAgICAgICAgIB/gH9/gH9/f4CAgH+AgICAgICAgIB/f4B/f39/f39/f39/f39/f3+Af39/gICAf4CAgICAgICAgICAgICAf39/gICAf39/gICAgICAgICAgICAf4B/f39/f39/f39/f39/gIB/gICAgICAgH+AgIB/f4B/f3+AgIB/f3+Af4B/gH+Af4B/gH+Af4CAgIB/gH+BfoB+gnyCfIV9jWxdjJSPcHt/iol+eH6Jinx/dX98bHeAh3mDhYeAhYWCgYSFgYCBhICCgoWChIOFgYKCgoByfXl7d3d7eYB9fX1/gX98f35+fnx9foGAgYODg4SEgoOCgoGBgYGBgYCAgICCgIKBgYB+f358fn99fnx8e36AfoCBfHyCf3x8fXx8gn5+gYCAgIGBgICCfoB/gYJ/gIKDgoOAf4CEgH2BgYCAgH+Bg39+gH5/f39+foB9fX59gIB/gH+BgYF/gIB/f3+CfoKDgYKBf4B/g4B/gX1/gH5/fnx+fn9+fX58fX19fX5/f35/f39/gICAgH+Bf3+BgIGCgoGBgYGCgIGCgoCBgIGBgIF/goJ/gH6AgYB+fICBgYB+fX6Bf31+f4B/fn9/g4B+fn1/gICAgIGAfX5+f39+fX+AgoJ/fn5/gIB9f3+BgX9+fX+BgIGAfn+Af39+fX5/gYGAgH9/gIB/f39/gIGBf4KCgoF/f4CBgX+AgIB/fn18f4B/f35+gIB/fn1/gIKCf35/gYKCf36AgYKBgICBgoF+fH1/gYGAf4CBgH98fH6AgYB/fn9/gH19f36ChIB/fnx8fX17fYGAg4N/gIGEhIOCgIGCgoGBgIGCgoKBgYGAgH5+fX19fn19fX19fH19f4B/fn9/f39+f39/f4B/fn+AgICAf3+AgYGAgICAgYKBf35/gYKCgYB/gIKBgYB/gIKCgoGAgICCgoGAf35/f39/f39+fXx8fH19fHx7fHx8fHx7fH1+gICAgYGBgoKDhIaIiYuMjIuKiYqLjY2LiYeEgX55c29ra2xtbWxsa2trbG1vcXR4e35/gIGCg4WIio2PkZOVl5iZmZqampqampuenpWIeGhfXWJoamtqZ2ZlZmVmaGtwdXl8fHt6eXp7fH5/gIKEh4iJiYmJiYqLi4qJiYqMj5OVlZSTkpKUl5ublIx/cWlmZmpsbW1qaWdnZ2dqbG9zdnh5eHd2d3l6foCBg4SGiYmLioqLi4uKiYmIiIqMkZWWlJKRkJOXnJ6XjoBxamZna2xubWtqaWloaWpscHN3enp6enh5ent+gIOFhYeIiImJioqJiYmIhoWFhYeJjZGUlJOSkpSXnKCakIFyamVnbG5wbWpoZ2hoaGprbnF1eXp7enl5eXx+gIKFh4iIiYqKioqKiYeGhYSEhYaHiIqNkJOTk5OTlZmgnpaKd2pjY2lucG9qZmRlaGpra2xvc3h8fXt5eHl8gIKEhYWHiImLioqIiIeHh4aEg4KEhYeJjI+Rk5OUlJWYm6CelId0aWJiaW1vbmhmY2RnaGprbXB1enx8e3l6fH2AgYKEhYeIiYqJiIeGh4aGhoSEhIWGh4iLj5KTlJSUlJeboJ6WindqZGNoa2xrZ2RkZWhpamtsb3R5fH18enp8fX+AgYSFiImJi4mIh4eIh4aGhISDhIWGiImNkJOVlZSUlpmdoJqPf29nY2ZqamtoZWZnaWlpaWpuc3h7e3p5eXx+f4B/gYOGioqKiYeIiIiJhoWDgoOEhYaGh4qPk5WVlJOVmJ2inpSGdGtnZmlpaGdlZ2hoaWdoam1ydnl5eXp7fX6AgH+Bg4eKiouJiIiIiYeGhIODg4ODgoKDhomMj5CSlJWWl5mbnZiPgnNtaGdpZmZmZmhoZ2dmaWxwdHV3eHp8fX1+fX+ChIaIiYqLioqIh4aGhoSEg4KDgoKCg4aIio6QkpSVlpeanZ2Vin1ybmpnZWJlaGlqZmVmaW1wcXJ1eXx9fX1+f4KDgoSEiIqKi4qKiYiHhYODg4SDgoGAgoSGiIqNkJGUlJSWmJqbmI+FenNuZ2VjZGZmZmVlZ2ptbnBydHh6fHx9fn+AgYKDhYiJioqKioqJiIeGhoWDgoGBgYOEhYeLjY+RkpOUlZeYmpiQiH11cGhkY2NlZGNkZWhqbG1vcnV2eXt8fn+AgoKBg4SGh4eKi4qKiYmHh4aEhYODg4KDhIWHio2PkJKTlZaXmpuakouAeHFoZGNiY2FfYmRnaWptcHJ0dnl7fH1+gIGCgYOFhoiHiouLi4iJiIaGhISEgoGAgoOEhYiLjo+Rk5SWlpiam5eQiYB4b2hlY2FfX19hY2VobG1vcXR3eXt8fn+AgoOChoaGiIiKioqKiYmHhoaEhIOBgoGCg4SGiIuNj5GTlJaXmpublpGKgHlwamdiX19dXV9iZGhrbXBydXd5e31+f4GCg4OGhoeIiIqKioqJiYeFhYODgoGBgIGBgoWGiYuNj5GTlJWYmZqZlJGHf3hva2ZkX11fXV9iZGhrbnBydnh6fH2AgIGDhIWGh4iIiYqKioqJiIeFhIOCgYGBgICBgoSFh4qMjpCSk5OUl5mZl5OOhX52b2pmY19fXV1fYmVpbG9xdXh6fX5/gIGCg4SFhoeHiIiJiYmJiIeGhYSDg4GBgYCAgYKEhYeJi42Pj5CSk5SWl5OQi4V/d3FtamdjYV9fYmRnam1wcnV4e31+gIGCg4SFhoeHiIiIiYmJiYiHh4WEg4KCgYCAgIGBgoOEhoeJiouNjo+PkJGSko+NiYR/eXVxbmtoZmRkZGZpam1wcnV3enx/gYGDhISFhoeHh4iHh4iHh4aGhYSDgoKBgYGAgYGBgoKDhIWGh4mKiouMjY2Pj42LiIWBfHh0cW9saWdmZmdoam1vcnR3enx/gYKEhIWGh4iIiYmIiIiIh4eGhYWEg4KBgYCAgICAgIGBgoODhIWFhoeHh4eIh4eGhoWEg4B+fHl2dHJwcG9ubm5vcHFzdXh6fH1/gYKDhIWFhYWFhYWFhYWFhoaGhoaGhoWFhYSEg4ODgoKCgoKCgoKCgoKCgYGAgH59fHp5d3Z1dXR0dHV1dnd4ent8fn+AgYGCgoODg4OEhISEhYSFhYWFhYaFhYWEhISEg4ODgoKBgYGBgYCAgIB/fn18e3l5d3d2dnZ2dnd4eXp7fX1/f4GBgoKCg4ODgoOChIKDgoODgoSBg4KDf4KCgYGAhYCEf4OEgoJ/hYCCgIGBf4F9fn98e3p5end3dnd4dnh4enl6fH5+foCAg4KCgoSEg4KFhISEhIaEhoSGh4SGhYaDhYWEg4OEgoOAg4ODfn9/fXp4d3Z1cnJydHN0dXd5enx+gIGCg4OEhIODg4KCgYKBgYGBg4KDg4SEhIOEg4SDgoKDhIKDhIOFhIOFhYWEhISDhYF+fXt3dHJwb3Bub3BxcnR3eXx9f4GDg4OEhIODgoKCgYCBgoODg4SFhoaGh4eHhoaGh4eGhoeIh4aIh4mJiIiKiISBfXt2cm5sbGppaWttcHF0eHt9f4GCg4OCg4OCgoKCgIKCgoODhYSGhYWFhISDg4KCgoGCgoODg4SFhoaHh4eIh4eHhoWFhYSDg4OBfnx5dnNwbm1sa2ttb3BydHd6fH1/gIGCgYGBgYCAgICCgoKEhoeHiIiJiomJiYmIiIiJiYmIiImIiIeGh4aFhIWEgoB9enh1cW9ubWxsa21vcHBzdXd6e3x+f39/gH+AgICBgoKDhYaHiIiJiomIiIiIh4eHh4eIiIiHh4eGhoWDhIOBgYGAf357e3p4dnZ1c3RycXJycXJzc3V3d3l7fH1/fn+BgYKDg4OFhYWGhoaHiIiJiIiKiYiIiIiHhoWHhYODg4KAgX9/fnx8enp4eXd4d3Z3dXd2d3h5enh8fH5+fX6BgX6CgYKChICDhoKDg4SCg4SBhIOEgoOFgYSDgYCEgn6Df3+BgH59gX1/gHt9f4B7gX1+gnp+fX59fX97gnx+fn2CfIJ+goF+gX+Cf4CBfoKAfIF/fn6AfH2EfX2BfoCAfn2CgXx9gn9+gnuCg39/goR/hYKBhICAgoR7goF8hH9+foV8fYN6gYJ9fYJ9fYF9fIJ/e4N/fYR+foF/foCCe4J+foB/fX6EfH6Agn6EgX2FgH2DgH+BgX2DgX6CfYB8gnl+fXx/eIN6gX1/gXyBfYZ8gn2BhH2EfomBgoKBhn+Ff4OCgIJ6hH6Af3p9f395fnqAgHl7f4CAfnmFgX98eoSAgXqAgYR9f3+FiHmEfIWCe4B7hn59foKFf4J6hoGBfH6EgIB6gH+Bf39+hH99fn6Ce4F6hH19gHmIeoZ6g39+hXeIe4SBfIJ/hXuAfIGBfIF+hHuCfn5/f318hX9/f4B/gn58gYN9f36AgXt8gYKAf3+Ag4J5gIF/eoGAfoR8goCEfYCAgYR+fYCDfIR8gX9/g3qEfoF/gH+ChHmHfIKDfYF/gX6AfoN8g3mBf3yAeoJ8hXmAf3mDe4N9goF2iXuDfn+EeYV5g3yBfX6FfIR8hH+CgH+DfIN+gX6Bf3+AfIN+gn6Ef3+DfYF+fX+Cf4B/gH6BfYGCf4J+g3yCgH+CfYF/gICAg32DfX6BfIF8hHuAgH2BfH5/f399gIF7g3mDf4F9gYN+gX2BgIF+gn6DfYR9gn59gH2Be4N6g3yBf32EfIGAgX+Af32Fe4KBf4V7h3qFe4KCf4V6hX2DfX9/g35+gH6AfYF+gX5/gYB+gIGAf4F+gX9/fYF+f4F9gX+Ce4KBf4B/f4CDfH2DfnyBe4GEeoB+gnp/gHqIe36DfX+AgXqChHmCf39/gn1/g32EgIGAhYB9g35/hHuAg359goB9g359hH97hX1+gX+BfoR9gIJ8hH5+f36Afn9+foJ9gIN/gX99gn58gH6DeoN+gIV7gICFeoGBfYJ8fX2Ee3yCfoB9fYKBe3qFgHp/f4KCfn2GgXyAgYN9gX6DhHqAg4F+f4F/gn97hYB8foF+gYF8g4R9f4R/fn+BfoJ9foKBfH+EfIF/gH+Af32CgXqBgX9/f4B/g3x/g39+gYF/gIB+gn98gIF9foB+f398fYF/fYCBfYB+fYB/foCBfn+BgH6CgH6BgH6DgH2Cgn6Agn2BgX+BgYCAgYB/gn9/gYCBfoF+g39+g36Cf4B/gIF9gIF/f4B/foB+fIB9fX5+fnyAfX5/fn5+gH1/gH9+f4B/f4GAgYCAgoGBf4OBf4GBgYCAgIGBgICBgIB/gIGAf4CAfn5/fn1+fX5+fn9/fX6Afn5/f39/fn+Afn2BgH+AgIGCgICCgoCBgoCAgICAf3+AgH9/gH9/f4B/f35/f35+fn9+fn5/f35/gH9/f4CAf3+AgH+AgX+AgIGBgYGBgoGCgYGBgYGBgYCAgYCAgYGAgIB+f359fX18e3x8e3t7e3t7fHx8fX5+fn9/gICAgYGBgYKDg4OEhISFhoaGh4iIiIiJiYiIiIeGhYJ/fXp3dXJwb25tbG1ub3BydHh6fH+BgoSFhIWFhISEg4ODg4OEhIWGh4iKi4uMjY6Ojo6NjYyMjIqHhIKAeXZ0cG1ramdnZ2hqa25xdHZ6foCChYaGhoeHhoaFhYSDg4OCgoOCgYODgoKCgoKBgIGBf4CBgIGCgoODhIWGhYaIh4eIh4eHh4aGhoWDgH98d3RzcG1sa2pqa2xvcHN2enx/goOEhoaGhYWEg4KBgYCBgYKDhIaHiIqLjI2Ojo+Pj4+Pj4+PjIeHhHp4dW9ramhkZGVmZ2ltcXR3fYCBhIeHh4iIh4aGhoWEg4WDg4SDg4KEgoGCgYB/fn99fX1+fn6AgIGCg4SFhoaGhoaHhoaGhYWEhYSEhISEhIOBf3x5dXJwbWtramprbW5xdHd6fYCChIWFhYWEg4OCgoKCg4SGh4mKjI6Pj5CQkZCQj5CQj4+NioWDe3RybWdlZWJfYmJkaGtwdHh8gYOFiImJiomJiIeHhoaFhoaGhoeHhYeFgoKAf319fHp6enp7e31+f4GChISFhYaGhYWFhISDg4GBgYCAgICAgIGBgIGCgIGBfn18end2dHFwcG9vb3BxcnR2eHt9gIKEhYeIiYmKi4uMjY6Oj5CRkZKSk5OTk5ORjYmEfnVwamRfXVtZWV1fZGhuc3h9gYaIioyMjIuLiomIiIeHh4iIiIiJiYiHhoWEgXt/fHZ4eHh1eHt5fH5/g4KFhoeGhYeGhISDg4KBgoGBgYGCgYKDg4ODhIOCgoF+fHp3dHFwbm1sbG1ub3Bzdnh6fX+Bg4WGh4eJiIWDhYiLjI+QkpGRk5OVlZWUlJWVkY2HgnlvamZjX19fX19jZ2tvc3Z5fH5/gYKCgYGBgYGCg4SFh4iJiouLioqIhoWDgoB/fnx8fHx9fX5/gIGCg4SFhYWFhYWFhYSEhISEg4ODg4KCgoGBgoKCgYGBgIB/fnx6eHVzcXBubWxsbG1ub3BydHZ5e31+gYKEhYeIiYuMjo+QkpSVlpiYmJmampubmJKKg3x1b2plX11dW11fYmVpbnF1eHx+gIKDg4ODhISFhYaHiImJiouLi4uKiYiHhoOAfn18e3p7eXp7e3x9f4CAgoODhISFhISEhIODgoKBgYGBgYGAgYCBgYGBgYGBgYKBgYGAf318e3l3dnRzcnFxcXFycnR1dnh5e31+gIKDhYaIiYqMjY+PkJKSk5SVlpeXl5SPi4aBfHdzbmhlYl9fYWJjZWlscHR4en2AgoSGh4iJiYmJioqKioqKiYmJiIeHhYWCf399fHt5eXh3eXh6enx+foCCg4WGh4iHiIiHh4aGhYSEg4KDgoKCgoOEhYWEg4F/fXt4dXJwbWtqaWlqa2xucHN2eXt+gIKEhYaIiImKi4yNjo+QkZKTlJSVlpeYmJaSjYiDfXhzbmhjX11dXV9hY2ZqbnJ3en1/goSFh4iIiIiIiImKioqKioqKioqJh4SDgYB+fXt6eHh4eHl6e3x9f4GDhIWHh4iJiouLi4uLi4yMjY2OjoyGgX15dHFvamZkY2JjZmhpbG9ydnt+gIKDhIWGh4eGhIODg4OEhYSEhISFhYaFhISEhYaHiImJiouNj5CSlJebnZqUjYeAeXVwamRfW1tbX19hY2ZpbnN3ent9fn+ChIWGhoaHiYuNjo+Ojo6LiIaDgX58e3h5eXh6e31/gISGiIyOkJGSk5KTlZaYmp6ckoh+dW5pZmFdW1lZXWFlZ2lsbnN3e35+fn+AgoSFhoWFh4mLjY6NjIyMiIOBfXt6enp4enp7fn+ChIaJi46RlJaWlpWVlpiboKaikoJzaGJfX1tXWVtfZWlraWhpa3B0eHl5e36BhIWFhIWHio2Pj46NjY6NjYqAeXd2eXp7e3l9gIKFhIWFiI2Pk5SVlZSVlZWWmJuippmDcF9ZWV1dXV9jaW1taGRhZGpwdXd5e4CFhYOAfn6Ch4mKi4yOkJCOioeFhoJ5eHZ5fn+Bfn6BgYSDg4WHjY+RkpGSkZGQj4+Sl52im4RxZF1fX19hZW1yc21lYmJnbXBydnyChYWAfXx+gYOFh4qOkJGPi4iIh4eFhYB3eHh7fn1+foGEg4OAgoaJjY2Oj5GTkY6MjI+SlJWZmYdzZl1fYWNlaG9zcmxkY2Zqb3B0eYCEhIJ+fX5/gYKFiIyPj42LiomIh4WFh4N4eHd6f3t8fICEg4J/goiLjoyMjY+QjoyMjpGRkZCQl5R+bmVhZWRiY2pydHFoY2drb29wdX6EhIJ/f4KDgYCChoyNjYuLjIuJhoWGhnx4eHp+fHt8f4OCgX+AhoeJiYuNj5COjY2OjouLjZGUl5WAcGxlY19dY2x0cm5paW5sampweH6BgIGFhYN/foCEh4iJjI6PjYqIiIiGhnx3e3t9enl9gIN/f4CDiIeHiYyOjo6Nj5CPjo2NjpCSlpJ9c29oZF1bY2xvbWtqbW9ram5zeHt8f4SFg4KCg4SEhYaKjIyMi4yLiYaEhIWAdXh5enl3e3+DgH+Cg4eGhomMj46PkI+PjIyMjY+QkpWTgHZzaGNdXWRpa2ltbW5ua21xc3V4fYGDg4KEhIODg4WIiYmLjY2Ni4mIhoWDhH52enh4d3Z9f4GAgoWFiIaIi4qKio6Ojo2MjYuKi42PjpCOfXZyaWVfX2NoZ2hsbW9wb3J1dXZ6fYCCgYOFhISFhoeIiImLi4mKioqIh4WGgnd6eHd2dHt+gX+ChoWHhoiLioqKjY2MjI2PjYqMjY2Mj41+e3ZtaF9hY2RiZWtqbm9wdXZ2eHx9foCBhYWEhYaHh4eIiYqJiYqKioiFhYJ+e3p6eHl5fH5+gYOFhoeJiYqJiouMjIuMjIqKioqLi4yOjX98eG1pYWFjY2FkamltcHJ3d3d6fn5/gYKEhIOGh4aGiImJiYiKi4mJh4WEf317e3p4enp9fX+ChIaHiouLi4yNjY2NjIuLi4uLjIyNj4l9fnVtaGJkYmFiZmlobG9ydXV4fH5+gIODhIOEhoaGh4iJiYmJioqIiIiIgoF/e3t2d3l4eXp+f4GDhYiJiYuMjYyNjo2Mi4yLi4yLjIyNjIF8enFrZWNjYV9hZ2dobXB0dXd7fX9+gYODhIOFhoaGh4mJiYqLi4qKiYmEgYB8end3eHl4eX6AgYOGiYqLi42OjY2NjY6NjIyMjIuMjY+Kf396cGhjY2FdXV9lZWZrcHN1d3t+gICChIWFhIWGh4eHiYmJiYqKiomJiISAfnx6dnZ4eHl6fYCChIaJjI2Oj4+QkJCQkI+Pj46Pj5GOgn98c2tjYmFdXV1fYmVoa3B0d3l8foGCgoOEhIWFhYaIiYmKiouLioqKiYiGhYB7enl4dXV4eXt9f4KEh4qKjI6Pj4+Pj46OjY2MjI2NjY+Mg315dW9nZGNhYV9fYmRpbXBydnl8foCCg4OEhISEhYaHh4iIiYmJioqIhYSCgH18e3p5eXp7fH1/goSGiIqLjY+PkJCPj4+Pjo6Oj4+PjYV/enVxa2ZkYV9fX2FjZWpucXV4fH6Ag4SFhoWFhoaGh4eIiIiJiYmJiIaFg4KAfn17enl5ent8fYCChIaIiouMjY2NjY6NjIuLi4qJiYmJh4J9eHNwbWpnZWNiY2VnaWxwc3Z6fYCCg4SFhYaGhoaGhoaHiIiJiYeFg4KBgX9/f35+fX6AgYKEhYeIioyNjo6Njo6NjIyMjIuJiIN+eXVxbmtpZ2ZlZGVoamxvcnV4en2AgYOEhYWGhoeHiIiHh4eFhYSEg4KCgoGBgICAgIGCg4SFhYeIiYqLjIyLi4qKioqJiYiGhIB8eHRwbmxramloaGpsbnBzdXh6fH6AgoODhISEhYWFhYWEhIODg4ODg4ODg4KDg4ODg4OEhIWGhoeIiImKiYmKioqJiIiHhoWEg4F9eXRxcG5tbWxramttcHJ0dnh6fH6AgYKDg4ODg4OCgoKCgoKDhISFhoaGhYWFhoeIiIeHh4eIiYqJiIiIiYqKi4qJhoJ9eXZzcG5sa2ppamtucHFzdnh7fX+BgoKDg4ODg4SFhYWFhYaGhYWEg4OCgoKBgICAgICBgYGChIWFhYaGh4iIiIaGhYWFhYWEgoKEhISEgn56d3VzcnBvbWxtbnBydHV1d3t9f4CAgH9/f4CAgICAgIGDhIaHiIiJi4uMjY2NjIuLiouLiomIiYuMjYuIgn14dXNwbmtoZmZoa21vcXN2eX2AgoKCgYKCg4OCgYGBgoSGhoaGhoeIiIaEg4KAf358e3p5eXp7fX5/gIKEhoiIiIiIiIiIiIeHhoWGhoeHhoaHiIqKhoF7d3RycG1qZ2Znam1ucHJ1eHx/gYODg4ODg4KAfXt6e3x9fn6AgYSGiImKiouMjY2NjYyMjI2NjY6PkZSXl5OMhYB8d3FrZmFfX19hYmNnbXJ2en2AgoSGh4aEg4ODgoGBgYKDhIWGhoaHiIeHhIF9enp5eHZ1d3l7foGDhomMj5CQkJGRkZCPjo6Nj5CSj4d/fHt2b2dkYmFfX19fY2lucnR4foOFhoaHh4aGhYKAgIGCgYGChYaHiIiGg4ODgX17e3x7ent9f4GEh4mMj5GTk5SVlpWVlpeYlo2EgH54bGNhYV1XVVldX2Jma3B2fH+BhIiKiYiJiYeFhIWEg4OEhYWFh4aEgoGBf3x7e3x8e31/gIOFh4uNkJKSlJWVlJOUlJSWkYeDgn1yZ2doYVlZXV9bXWVqbXB3fH6ChYeHiImIhoWFhYOChISDhIaHh4iIhoaEgoF/fnt7e3t7fH2AgoOGio2PkJKTlJOTlJOSlJSLhIWBd25sbGVdXV9fW11kaGptc3l7foKGh4iJiomIh4eGhISDg4SEhISEhYSDgoKBf35+fn19fX9/gYKFhomLjY+QkZGSk5KSk5WSh4eHfXRwb2lhX19fXV1jZmdrcHd4fIGFhoaIiomIh4eHhISEhIODhIWFhYSFhoGCgIB+fH59fHx9f4CBhIaJioyPkJCQkpORkZKUkIaJh3x2cXBpY2JhYV1fY2Vna3B1d3yBhIWGioqJiYmJh4WFhYODg4SEhIOEhoKCgoJ/fX9+fnx9f39/gYSFhomLjY6PkJCRkZCRkpGJh4h+eXRwbGdjYmJdX2NkZmpvc3Z6f4OEhoqKioqKioiGhoaEg4WEgYSCgoGBgn+BgIGAgICBgoGChISGh4mKi4yNj46Pj4+Pj46Jh4N/enRxbWlmZGRhYmNmaGpvcnZ5fYGDhYeJiIiIh4aFhISCgYGBgYCBgYKBgoOEhISFhoWGh4aGh4iIiIiJiYiJiomKioqKiYiHhoKAfnl2cnBtamhnZ2ZnaWpsb3J0d3p9f4CCg4SDg4SDg4KCg4KDhIaHiIqLjI2Njo6NjIyLioqIiIiHhoWFhYWDg4OCgX9/fnp5eHZzcXFwb21tb25ucHFyc3V3eXp7fX9/gIGCgoKEhIWGh4mIiouMjIyOjY6NjIyLiomJhoaFgoKBgIB8e3p5dHV3c3V0dHV1dHV3dXV4eHh6fHx+f36Eg4OFh4WFhoaGhYWEhIGAgYCAgH+Af4B+gYJ/gICDgIGChIOCgoOChICAhn6BgYJ/f4B9gYB7f317fHp8eX13fH17f3x+f358f4F+gIF+g4F+goWBf4GBgYF/goOCgoGDgYKAgoSAf4GDgHyAgYB+fX+EgH1+gX97e3yAe3t6gXt7fnyDfYCBhIJ/g4SCg32Dgn59fYF+en2AfYF7goKEgH6Ggn+BhICDgX6Dgn5+gn58gHt9fn16fn18e39+foF9goJ9gIKCfoCCg4N8g4WBgH6BgoJ+fYV+gX5+gYB8e39+fX95gYR5fn9/fX55gYJ6eoV/gIKAgIl9e4p8gYWCgImAeoiAfYR+fYZ/eYWCfn2CeoR9c4R3fX54e4CAd3+AgIJ6goWEe4SBgIp4gYeAfIGCeoZ+eIV9fYR9fImCfIKHfYGFeIuCeoV/foOFeISJeIF8fH56enqDeXt6eoR3fIJ5gYF/foWCeIOCe4SEfYeFfIWFgH+BgnyFfIF/gn+Bg3uJfX+AhICCg3+AgX56gnp6gnp6f4B7gIN7hoB/goGBfoN5gn55f4J8fIR4gn5+fIB/eYR7foJ+fYB/fYCAe4WBf4GBgICDfYWDhYODhoKFf4OCenp6enp7fX5/fX1+fH9/gIOEgIKEg4KFhoOHh4GIhISBgoV6hHp+fnh+dn56eH93gHl9f3yEe4J+goCBgH+De4CAfn59fX6AfX2AfoB+f3yAfnuAfH5+f3+AhH+DhoKFhoWFhYODg4KAg4B+gX9/fn9+f4B8gX+AgICBgYR/g4SCg4KDgYKAfH98f3t8fXx8enx6e3t6fH18fH1+fH19fXx+fn6Af4GBgoGDg4SCgIGCgH+AgIB/fX5/fn59f4CBf4GDg4OChISEg4OEhIOCgoKBgH+Af399fX17enl7enp5enx7fHx+gICCgoSDg4ODg4KCgYGAgYGBgYGAgH5+fX1+fX19fn5+fn9/gIGBgoOCgYKBgYGAf4CAfn59fX18fH19fX1+f39+fX9/fn5/gICBgYKDgoKDg4ODhISGhoSEg4SDgoGBgX9+fn59fX18fHt6eXl5eXh4eXl5eHh5eHh4eXt8fX5/gIGCg4SFhoiJi42Ojo+PkI+Pj4+Ojo2NjIyKhoJ9eHFtamZkY2JkZmZpa25wcnR3ent+f4CBgYGCg4KDhIWGh4iJioqLjIuLi4uKioqKi4yNj4+QkJCRkpOUlZOPjYZ/eHFtZ2NfX19dX19iZGVoa25wc3Z4e3x9gIKDhIaHiImKi4yMjIyLioiHhoWEgoKCgoKDhIWGh4qMjo+QkZGRkpKTk5SUj4yFfXZvamViX19fXV9jZGdpbG5xdHZ6e31/gIKDhIWGh4iJiYmKioqJiIeGhIOCgX+AgICBgoOEhoaHiYqMjY6QkJCQkJCRkZOSi4aAeXFqZ2VjYV9iYmNlaGxtb3F1eHp8foCBgYKEhYaGiImJioqLioqJiIeFhIOBgX9/fn5/f4CBgoSFhoeIiYqLi4uLi4uKioqKiomLi42JgH95cGtnZmRjYmVmZmlsb3JzdXl8fn+BgoOCgoOCg4KEg4SFhIaHh4eHh4eGhoaGhoWGh4iJiouNj4+QkpOVmZmQjYl/d3BtamdkZGRjZGZpa25ucXR3eHl7fX59f4CCg4SGh4mKi42OjYyMi4mIhoSCgX5+fXx8fHx9fn+AgYGCgoKDg4OCgoKBgIB/f35+fn59fX1+fn5+fn5+fn5+f39/f4CAgICAgICAgICAf39/f39/f39/f4CAf4CBgYGBgoKCgoKCgoGBgH9+fXt6eXh2dnV1dXV1dnZ3eXp7fX5/gIKDhIWHiImKjI2Oj5CRkpOUlZaZl5GPi4R+enVwbWhkYWFhYmRlaGtucXV4e35/gYOFhoeIiYmKiouLjIyMi4qJiYeGhYOCgX9+fXx7e3t7e3x8fX5/f4CBgYKCgoKCgoGAgH9+fn18fHx8fHx8fH19fX5+f3+AgICBgYGBgYGBgYGBgICAgH+Af39/f39/f39/f39/f3+AgICAgICAgICAgICAgICAgICAgICAgICAgICAgICAgICAgH9/f39/f39+fn5+fn5+fn9/f39/f39/f39/f4CAgICAgICAgIGBgYGBgYGBgoKCgoKCgoKCgoKCgYGBgYGAgIB/f39+fn19fX18fHx8fHx8fHx8fHx8fH19fX19fX1+fn5/f3+AgIGCg4OEhIWFhoeHiImJiouMjIyLiYaDgH15dnNwbmxra2xtb3BzdXh6fX+BgoOEhYaGh4eHh4eHh4eHh4eGhoWFhIOCgYB/f359fX18fHx9fX1+fn5/f4CAgIGBgYGBgYCAgH9/fn5+fX19fX1+fn5+f39/f4CAgICBgYGBgYGAgICAgICAf39/f39/f39/f39/f39/f39/f39/f39/gIB/gICAgICAgICAgICAgICAgICAgICAgH9/f4B/f39/f39/f39/f39/f39/f39/f39/f4CAgICAgICAgICAgIB/f39/f39/f39/f3+AgICAgICAgICAgICAgICAgIB/gICAgICAgIB/f39/f4B/f39/f39/f3+AgICAf4CAgICAgICAgICAgICAgICAgICAf4CAf39/f39/f39/f39/f39/f39/f39/f39/f39/gIB/f39/f4CAgIB/f4CAf4CAgICAgICAgICAgICAf4CAgICAf39/f3+Af3+AgIB/f4B/f3+Af39/f4CAf3+AgICAgH9/f4CAgICAgYR9bniJh3t4goqAdoGKgXh+hIJ+fIKHgXyAg4GAf3+BgYB/f4CBgX19gIF/fH6BgXx9gYGAfn2Agn5+f39/f3+Af31/gH5/gH9/f35/gH5+gYF+fYCCf3+BgX+AgYGBgIGBfoCDf35+goB9f4CBgH9/f3+Af4B/f4F/fn+BgH9+f4CAgH5+gYJ+foCAgH+AgH5+gIB/f4GCfn2AgYF/fn6BgYB+f4F+gIF+fYGEfnyAhYF5foaAe4CAfoB+f4B/f4B+gYB9g4J6f4R+gIF8fIaDe4CDfHyGhHp2hol9dn2Jgnh7g4R9e4CGfnqAhH96goOEfX1/iYd1doaKfXh7iYJ4fYZ/en6Bg4B9f4CAg4B+fIKDfH+AgYV8f4CAh357f4GEfnuBfXuBhXx4f4iAfH6Ahn1/f35+gIKAe3uAh4J6en+JgHt7hIR7f4GDfXqBh4F9fYOCgIB/f31+goR4eYeFeniBhXx5fYaAen+EhH6BhIF9goWAenyFh3d0ho16b4GMgHp8f4aEfHyBgoJ7f35+hYB7eoOFf3uAgoOCfHyAhYF2fod+eX2HgXx9g4SAf3yAf4CAen6FhHt5goaBfHyCgoF9fH+EgXp7g4R9fICDgX9/foGCfoF/gIF/gX99f4SAeXyDgHp9hIF+gYB/gYOBgIB+f4OCfXyCg356foKCfHl/gX57fYCCgH+AgIODf36Cgn18gIB/gYB8f4KBf3x/hIN+fH+Dg4B7foODgHx+goF/fHyCg398fYGEgHp9g4J+f4GBf4OEfn6Cg359gIGAfX+Bf319f4B+fH6AgH5/fn+Af39+f4CAgH+AgYKBf4CBgoKBgICBgICAfn19f358fH+Afn5/gYB/foCCgoB/gYOCgICBgYCAf39+f39+fX1+fn5+f39+foCBf36AgYB/f4B/f3+AgH9+gIGAf4CCgoCBgoKBgYKBf3+AgH9/gICAgIGBgICBgYB/f39+fn19fXx8fHt8fHx9fX5+fn5+f4CAgIGBgoODhIWHh4eIioqJiYqLiomJiYmDe3l1b2dma2xtcHJ1dXZ3eHt9fX1+gIKAgYOFg39+gIKBgYKGhoaGhomKiYmLjY6Oj5CSkpGRlJibmZWQh391bGhmZmVkZmdnZ2hqa2xtb3B0dnh6e31+f4GChIaIiouNjo6Pjo2MioiGhIJ/fn19fHt9fn5+f4CAgICBgoKCgoOEhISEhISDhISDg4ODg4KBgYGBgICBgYGBgoOFh4aCfnp1cWxqampqa2xtbnBxcnR2eHp9gIGDhIaGhoeJioyNj5GTlZaXmJmYl5ianJ6WioJ8cmdjZWdmZGdqamprb3FwcHJ2eXp6fX5+fX2AgoOEh4mKiouNjYyLiYiGhIKBgYB/fn9/f3+AgIB/gICBgH+AgH9/f39/fX5+fn19fX5+fX1+fn5+fn9/f4CBgoKDhISEhISEhISDg4OCgoGBgIB/fn59fHx8fXx8fHx7e3p6eXh4eHh4eHh4eXl5ent8fX5/gYKDg4SFhoeIiYuMjY2Ojo6Pj5CQkJKTlIuCgHlvaWhpZ2ZoamtqbHByc3R2enx9f4GCgYGBg4OEhYeIiYmLjIyLioqIhoWEg4GAf39/fn99e357fXx9gH9/f39/fn5/f39/gIGBgYKDg4OCgoKCgoKCgoKBgoKCgoGBgYB/gIB/f35+fX18fHt6eXd3dnV1dXV1dXV2eHl6e3x9f4CBg4SFhoeIiYqLjI2Oj4+Pj4+PkJCSk5SPh4J7dG1qaWlnZ2lqamxucHJzdHd6fH1+gIGBgYKEhYaHiImKiouMjIqKiIeFg4KBgH19fHx8e319fn5/gIGBgYGBgYGAgYCAgH+AgH9/gICAgICAgICAgIB/f39/gICAgIGBgYGBgYCAgH9/fn59fXx8e3t8e3t7e3t7e3t8fHt7fHx9fX1+fn5/f4CAgYKDg4SFhYaHiIiJioqLiouMjIyNj4+PioSAenRvbGppaWdpaWxtcHJ0d3h7fX+AgYKCg4OEhYWGhoWFhYWEhIWEhYOCgoKCgYKCg4SFh4iJiouMjI6Ojo+PkJGRjYiEf3hyb2xqaGVjY2RlZ2lrbnBydXd6fH5/gIKDhIaHiImKiouLi4uKiYiGhYOCgH9+fXx8fHx9fX5/gICCg4SFhYaGhoeHh4eGhoWFhIODgoGBgICAf39/fn5+fn18e3p4dnVzcnFwcG9vcHBxcnR2eHp8fX+Bg4SGh4iJi4yNjo+QkZKSk5OUlJSUlJSRjoqFgHt2cW5rZ2RjYmNkZmhrbXBzdnh7fX+AgYKDhIWGh4eIiYmKiouLioqJiIeGhYOCgX9+fXx8fHt8fH19fX5/gICBgYKCgoKCgoKBgYGAgIB/f39/gICAgICAgIGBgYGAgICAgH9/fn5+fX19fHx8e3t7e3t7e3t8fHx8fX1+fn5/f4CAgIGCgoKDg4OEhISEhYWFhYWFhISEhIODg4KCgYGAf359fHt6eHd2dnV0dHR0dXV2d3l6fH1/gIKDhYaHiIiJiYqKioqKioqKiomIiIeGhYSDgYB/fXx7enh3dnV0dHNzc3N0dHV2d3h5e3x+f4CCg4SEhYaGh4eHh4iIh4eHh4eGhoaFhISDg4KBgYB/f35+fX18fHx7e3t7e3p6enp6enp7e3t8fHx9fn5/f4CAgYGCgoKDg4ODg4OEg4SDg4ODg4ODgoGBgYB/f39+fn59fn5+fn5+fn5+fn5+fX19fX19fX5+fn5/f3+AgICBgYGBgYGBgoGBgYGBgYGBgYGBgYGAgICAgICAgH+Af4CAf39/f35/fn5+fn5+fn9+fn5+fn5/fn9+f39/f36Af4B/gIB/gH+AgICAgIGBgYCBgYKBgYGAgYGCf4CBgYB/gH+Bf39/fn99f3x/fn9+fX58f31/fX6AfoB+fn9/gH2Bf4GBgYCAg36Cf4KBgoKAg3+CgYGBgIKBgoGAfoGBfX9+f39/fX1/fX1+fH5+fn19fn2Afn1/fn9/f35/gX+BgICAgoJ/goGEgoCAgYSBgYGCg4KCf4GCgoCAgICCf359f399e3l7fHt5ent8fHp5e3x8fH19fn9/f4CCgoKDg4SFhYSFh4iIiIiIiYmIh4iHh4aFhYWEgn57eHVzcG5tbW1ub3BzdXd4en1+gIGBgYKCgYGCgoSFhoeJiouMjIyNjY2NjIyLioiIiImLi4eBfHl0b2pmZmdoaWptcXV3eHt+gICAf4CAf39/f4CDg4SGiImKioqJiYeGhISCfX18fHx7fHyAgIGBgYODhIOEhYWGhoaFhoaFhoWFhYWFhIWEhYaHgXl3cnBraGVobG1vcXV5fH18f4CAf359fX9+fnx9gICBgIOEh4eFh4eJiIeIiYyLjI2Pj46OjY6Pj5CTlYyDfXZxamRfY2hoa2xxdXh3dXh4eXd2dnh7e3x/goWGh4eKi4qKiIiIiIaEhYWEg4KCg4OCgHt9fHp4eHp8gH9/gYODgoOChIWEhISGhoaHhoiIh4aHh4eJiYqNhnp3c25raGVpcHBwdHV3eXh0dnl4eXp7foGCgoWHh4iGiIaDgH2BgICAgoaGh4SEhoWFhIeKjI6Njo+Pjo6PkZWak4V+eXFqZF9jbG5scHJ0dHFtbnJycnN3e3+AgIOHh4eGh4iKiYeIiYmIhoaGhoSCgYKBgXt5fHt8en1+gYOAgYKDhIKEhIaHhoeHiYiHh4aHh4eIiIqLj4l6d3RuamZmanJzcHR2dnVycHJ3dnZ6fYGDg4OEh4WEhIWHiYmEhIWCgX5/f4GCf4KCgoODhIaJi4yOjo+Pj4+Oj4+RlZWIe3lza2RhZWxwbm1wcXBubG1ydXR2e3+CgoKDhoaEhIaIiIiIiYqKiIeGhoSDgYGAe3x8e3t7fn1/gH+AgYODg4WGh4eIiYmJiYmJiYmJioqLjI6MfnR0b2pmZmpwc3BwcnJxb3BxdXh4en6BgoKCgoSEg4SGiImKi4mFhoKAfn1/foCAgIKBgYKDhoeKjI+Qj46Oj46Oj5GVmJGBeXZwZ2JkanBxbW5wcGxqa25yc3V6f4GCgYKEhIKBg4eIiYmKjIuJh4eGhYR+fH59e3p8fX1+fX6AgYODhYeIiYqLioqKi4qKioqKjI2OkI+BdnVwaWVmam9xb21wcG5sbXF0dnh6f4GAf4CBgoKChIeJiYqLjIaFhYKBf4B/f4F/gICBgoKEhomMjY6Pj4+Pj4+QkZKVmY9/eXZvZWJma29ubGxubGlpa29wcnV6fn+AgYKDgoGChYeJiYqMjIuJiYiIhX1+fnx7eXx+gIB+gYODg4OGiImKioyNjYyLjY2Li46PkpCGe3hza2Rla21tbW5vbmxsbnFydHZ5fH1+f4CBgYGChIWHiIqLi4yJhIWFgX9+gYB/gH+BgYGBg4aHiIuNjo6Ojo+Ojo+QkpSVjoN9eXFoZGhra2prbWxqaWpsbnBxdXl7fH6BgoKCg4SFhoeJiouLhoeIhYKAg4J/f3+AgICBgoSFhoiJi4yMjY6OjoyNjo6Pj5CPh395dXBoZmhqamhqbGtramxvcHJ0d3p7fH6AgoKDhISFhoeHh4iJiIeHh4aFhISDg4OEhISFhoaHiYqKioyNjYuLjY2Li4yNi4R/fXlybGxsaWdnaWppamtucHBydHd4eXt9foCAgYOEhYWGh4eHh4iIiIiJiYmIiIiIiIiJioqKiouLi4qJiYmIh4aGhIKBf3t4dnRxcG9vbm1ub29ub3BxcnR1d3h6fH1/gIKDhIWGh4iJioqKi4uLi4uLi4uLioqIh4aFhIOCgoF/fn19e3p5eXh3d3d3dnZ3d3d3eHl6ent9fX1+f4B/gICCgoKCg4ODg4OEhISDhISEg4ODg4OCgoKCgYGBgYCAf39/fn5+fn19fX19fX19fX19fX19fX1+fn5/f39/f3+AgICAgYGBgYGBgICBgYGBgYGAgICAgH9/f4CAf4CAgICAgICAgICAgICAgICAgH+AgICAf4CAf39/f39/f39/f39/fn9/f39+f39/f3+Af39/f4B/gH9/gIB/f4CAf3+AgH+AgICAf3+Af3+AgIB/gICAgICAgICAgH9/gH9/f4CAgICBgX9/gIB/f3+AgH+AgIB/gICAf4CAf4CAf3+Af39/f4CAf3+Af3+AgICAf4CAf4B/f4B/gICAgICAgH9/f39/gICAfn+Bfn6Af4B/f4B/f4CBfn6CgX+Af4GAfoF/fn+Df32AgX59f31+gX57gYN/foGFf3yCg359g4R8eYeFd4GEfn2DgHt+hYJ6fIaBfIB8gIN/eX+GgnaDhHyBfIR/eoCFfnqAg4B/gX1+goKDen2Ggnh8in56gISAeYOHeXuHfX6AgIF8e4iCdIKMfHSHinl1h4d4eYSFe3yDgXuCgX98g4R4hX99g3yHeHmPe3OFinR3jIRxeY96d4N/gnt4iYJ5hH2ChX2CfIKIeYKAf4h9d4eGen58h394iXp6iIB6gn+Af3iFhXl7g4J8e4V+eX6JenOPg3N9jn9zhoh6d4yGc36PfnCKhXiDf4CDdIuCbo2AfH6ChXl/g4N7fYV+fn9/gX5/fIN9foR6gXqFgniBgoF7gYN7fYl6eoWCe36FfYB9gYV7gIF/gH+Bf3x/hX95gYN+fn6Df31+hn92hYd7eoWAgHqEg3iEgn1/gYJ9fYd/d4WFeH+GgHiFgXqAgIN3gIh6e4ODfnmEhHl9in52g4l7d4eAfnyDgXqEf35/fIN+f4B5hoB4g4V5gIN4hYV1hIR6goN7gn98h3t9hH5+gX9/fX6GfHqEh3l5i4B1iIF9f36GgHZ/i311got4eYODe3uNf3KHiXt7fYiAdIaIcYGKe3mCh3t8hH98hnqAgXyEf3mEhXaEgn98g4N8gICDfH1+g359gX2Cgnl+inp3iYR3f4d5fIp4eoiBfH6Efn2Dg3SCjXZ4hYN+eISGdYKMeXOJiXN6iH9/fIGBfYR+f3+Af4F+fIGFf3WEiXh7hn58hYF5goR7foN7foR+fH+FgHmDhHyAgX5/goF6goR7gIR9fIKAfoCBgHuFgHqCgH+BgH6AgIGAfX6CgHuCf3uEgHuAgICAfX+Df3+AgIKAfYGEfX2CgHyBgXx9g4B7f4KBfX6DfX2FfnuBg358goB+f4GAe4KDe3+DfX+Bfn+CgX1/goB9f4OAfYGBf3+BgH6BgX5+goB+f4B/foCAfn6Bf36Af36AgH9/gH9/gIB/gICAgICBgH+AgYF/gIGAgICAf4CBgYCBgoB/gIB/f4B/fn5/fn19fn18fX19fH19fX1+fX5/f39/f4CAgIGBgYKDg4OEhISFhYWGhoaGhYWFhYSDgoF/fnx7eXh3dnV0c3NycnJyc3R1dXZ4eXp8fX6AgoOFh4iKjI6QkZOVlpeYmZmYmJeUkY6Jg355c29saGRiYV9hYmRmaGtucHN2eHp8fn+BgoOEhYaHh4iJiYqKioqKiYmJiIeHhoaFhYWGhoeHiImKiouMjIyMjIyKiYeDgH15dXJvbGlmZWNjY2RkZmhqbG9xdHd5e36AgoSGiIqLjY+Rk5WXmZucnZ2enp6dm5eUj4iDfXZybmllYl9fX2FiZGZpa29xdHZ4enx9f4CCg4SFh4iJioqLi4uKiYmHh4WEg4KBgYCAgYGCgoOEhYaIiImKioqKiomIh4aFhIOBf358e3l3dnVzcnFwb25tbW1tbW5vcHFzdHZ4enx+gIKEhoiJi42PkZKUlpeYmZmampqamJWRjYeBfHdybWlmY2FfYWFjZWdqbXBydXh7fX+BgoSFhYaHh4iIiImJiYiIiIeGhoWFhISEhISFhYaGh4mKi4yNjo6Pjo6OjYuJh4N/fHh0cW5raWZlZGRkZWZnamttcHJ0dnh6fH5/gYOEhoiJi42Oj5CSk5SWlpeXl5eXl5aWlJKPjIiDf3p1cm5qaGVkY2NjZGVnaWtucHN1d3l7fX6AgYKDhIWGh4iIiYmJioqKiYmIiIiHh4eHh4eIiImKi4uMjY2NjY2NjIuJhYJ/e3d0cW9samhnZmVlZWZoaWttb3FzdXd6fH6AgoSGiImLjY6PkJGSk5SUlZWVlZSTk5KRkI6MioeEgH16d3RwbmxpaGhnZmhpaWtsbnByc3V3eHp7fH5/gYKDhYaHiImKi4yNjY2NjY2NjY2NjY2MjIyMi4uLiomIh4aEg4B+fHl2dHJwb21sbGtra2xtbm9wcXN0dnh5e3x+f4CCg4SFh4iJiouMjY6Pj4+Pj4+Pjo6NjYyKiYiGhYSCgH58enh2dHNxcG9ubm5ubm1tcHBwdHZ3ent8fn+AgYKDhYWDhoeHiouNkJGQkpKSkY+Pj42KiYiGhYOBgYB+fHp6eHV1c3JxcG9wb29ucHFxcnN1d3h5enx9fn+BgoOEhYeIiYmLjI2Ojo+Pj4+OjY2LioiHhYWDgYB+fHp5eHZ1dXVzcnJycnJycnR0dXZ3eXp6e319fn+AgYGCg4SFhYaHiImJiYuMjIyMjIuLiomJiIeGhYWCgH9/fHt6eXh2dXNzcnBwcHFyc3V2eHh5e3t9fn+AgICBgoOEhIWGhoaHiImJiouMi4uLioqIh4eHhYSEgoGAfn19e3p5eHh2dXZ1c3NzcnNzdHV2d3h4eXp6e31+f4CBg4OEhIWHh4eJiouMjI2OjYyMi4uLioqKiIaFg4GAfnx8enh2dHRycG9wcG9vcHJycnN0dnZ3eXx9fX6BgoODhYeHh4iKi4yMjo+Pj5CRkY+Pjo2Mi4qIiIWCgX58enZ1dHJwb29ubm1tbm5ubnBxcXN0dnh4eXx+f4CDhYaHiIqMjY6PkJGSk5OTk5KRkZCOjYyLiIWDgH56dnRzcG5tbW5samxtbGxtb3BwcHJ1dnh6fH6AgYOFhYaIiouMjo+RkpKUlJWVlJWVk5KSkI6MioaEgHx5dXFwbWtqaWloZ2dnZmdoaWptb3FzdXh5e36AgoSHioyOj5GSk5WWl5iYmZiYl5aWlpSSko+LiIR+enVxb21raGdmZWNkZWRnZ2psbXBwc3R2d3l7fX+Bg4WHiIqMjY2Oj4+QkJGSlJWUlZWVk5KTlJOTkpGPi4eCfXdzb2traWZlZ2RjZWVnaGlrbW9wc3R1eHl6fH6AgoWGiImLjI2Ojo+Pj4+RkpOTlJWWlZSVlZSUlZORjomEfXhybmtoZmRkZGNkZWVmaWpsbnBydHV3eHp8fX+BhIaHiYuMjY2OjY2NjY2MjI2PkJCRkpOTk5OUlZSVk4+Nh4B6dW9raWdkZGRiZGVkZWhpbG1vcXN0dnh5enx9f4KDhYiJioyMjY6NjY2Mi4uLi42Oj5CSkpOUlJSUlJSTj4uHgXt0b2xqZmNkY2JiY2VnaWptb3Byc3V3eXl7fX6AgoOFiImKjIyNjY2NjYyLi4uLjY6PkJKSk5STk5OSkpKPioeCfHVwbGpoZGRkY2VlZWdqa2xvcHJ0dHZ4enp8fX+Cg4SHiYqLjI2Ojo2NjYyMjIuNjo6PkJCRkZCQkZCPj46LiIR+enVwbWtqaWdmZ2dnZ2lra25vcXJ0dXZ4eXt8foCDhYaIiouMjY6Ojo6Ojo6Pj4+Pj4+Pj4+Pj4+OjYyLiYaDf3x5dXFvbm1rampra2tsbG1vb3Bxc3V2eHp8foCBg4WHiIqLjY6Pj5CRkpKRkJGQj46MjIuKiIaFg4F+fHp5d3Z0cXFwb21tbm5vb3BxcnN0dXd5ent9f4CCg4SFh4iJiYqLjIyMjI2NjIyLi4qJh4aEhIOBgH9/fn18e3t6eXh4eHd3d3Z2dnd3eHl5ent6e3x8fX9/f4GCgoKDhISFhIWGh4aGh4aGhIWFhIODhIKCf39/gH5+f35+fHt6e3l5e3p7e3x7fXx7fHp+fX58f4GBgX+Bg4OAf4GDgoB+gIKCgn+Cg4WBf3+Cg39/gISCgn5/goCBfX+AgYB8fH9/fnt+foB/fX5+gH59fYCAf39/gX9/gYGBf4OAgYB+gH+CfYGCgYJ/gX+DgX+CfoF/fn19gX2Bfn+AgX6AgH6CfoB9gnt+gn2BfYF9gX59gX2AfYF9gYJ8hICCf4SAf4R7gX2CfoCCfYd+gYCAfn2BfIKAgH9+f32Bfn+AgIJ/f32Afn2AfX1/gX1/f4GBgHx+g4F/fH+CgoJ9gIKCgnuBf4CCfn6AhIGAgICCgYB9f4F/gH5/gH+AfICAgoKAgn6BgX9+foCBgn99gX9+fXx+fYJ/f4GBgH6AfH9/f35/gn2CfoCBgIGBgYCBfn59gH1/gX2CgYB/gIF+gn17gHx/gX5/gIR+gIF9hIKAf4KAfoN9gIKBgYCBfYJ+fn9+gH6AfH5+gH99gH6CfYJ9f4F/fn+CfIN/gH+Df3uDfX6CfYB/g35/gnyCgIB+gYF9gn6AgX+BfYN+gIN7g31/gHuDfIF8gH5/gHyCeoN7f39+g32CfIKAfYJ8hH+Agn2BgYB/gYCAgH+AgHyEfYCCfoCAfn+Ceoh6goB9h3qCf3+BfoB7goF5h3mCgH2Ed4V7gIF5hHeHeYCDdop3hnl/hneJd4OFd4t4g397jm+Mf3mLeIV9foZ9fIZ+fIh3g4V1iH5/f4F/gIB6hnqBf3yGeICHdYR+gXqChHSGgH54i3p7hn98fYl4gYR9f4GEe36HfH6EfoCBfYV9e4SDd4GHd4CDf3uDf39/fYR8foJ/fIGBfn6BfISAeoZ+fYGCfICCgH59hX18hYJ4goV6foSAe3+Gf3qEhXl+h395gIZ/eYKHdn+JeH2HfHuFgXqAhH58gYF9f4GAfX+CgX19g4J7fYR/fX+AhHl/iXl6iIB1g4Z6fIOGeHuKgHaCh3x7goZ6e4mAc4eHd3uHf3uAgoB9f4CEfn1+hoF7e4qAdIiEd4GEgHx9hX5/foCAfYV9eop7fISCfXuIfXiIgXmBg32BgHyEfIGBfn2Df32Bf4B/gH6BfoGBfX2Cgn19f4R/eoKEf3uBhXl+hYF6gIV9fIOCe3yGhHV9jIB1gYh+e4KDfH6EgXx9g4F9gIF9foSBeoCEf31+g4B8gYB/f4F/fIGDfn2CgX5+g4F9foKCfH6DgXp/hX58gYN+e4KFfHuChX16g4N9fYCCgHuAhX16g4Z8eIGGf3p+g4N9fYCBgYJ/eoGGfnuDgHyCgn97f4WAeH6Ignh9hoN6foF/gIB+fH+DgX19gIOAfn6AgoF9fYCCf35+foGCf3x+goN/fX+BgYB/f4CAgH+AgH+AgH+AgH9/gYF9foGAfn+AgH9/gIB/f3+Af3+Af3+AgH+Af4CAgIB+f4GBf35/gYB+f4B/f4GBfn2AgYF/f4CAgH9/f4CAf39/gH+AgH5/gYB+foCAgH9+gIGAfn+AgX9+gIB/f4CAfn+BgH5+gIKAfX6BgX9+gIGAf4CAf3+AgX9+gICAf36BgX59f4F/fn6AgH9+gIGAf3+BgX9/gIF/f4CAgICAgICAgICAf4CBgH5+f4GAfn6Af39/f39+f4B/fn9/gIB/fn+Af35/gIB/f4CAgICAgICAgYCAgIGBgYCAgYGAgICAgH9/fn5+fX19fX19fHx9fX18fH1+fX19fn9/f3+AgYGCgoKDhISFhoeHiIiIiIiIh4aFhIKBgH57enl4dnRzdHRzcnN0dXV2d3h5enx9foCBgoSFhoiJiouOj5CRkpOTkpKRkI+MiIN/e3ZwbWtqaGdnamxtb3J2eHl7fX5+fX59fX19fn5/gYOEhYeJioqLjIyMi4uMjIyMjIyMjIyMi4qJh4OAfXp2cW9ubWppamxtbm9xc3R1dnh4eXp7e3x9f4CBg4aIiouOj5GTlJWWlpaWlZOTko+Mh4J9d3Jva2loaGhpamxvcHJ0d3l6e3x8fHt7fHx8fH6AgYOEh4mJiouMjIuLi4uLjI2NjY2Oj46Ojo+NiYWDf3hycG5rZ2dpampqbnBxc3V3eHh4eXl4eXp7fH6Bg4WHioyNjo+RkZGSk5OSkpKSkY+Pj46KhoJ+eXNwbWtpaWlpamxub3Fzdnd3eXp6eXl6e3p7fH6AgYSGiIqLjY2Njo6Ojo6Pj4+Pj4+Pj46OjoyIhYF8dnJwbWpoaWlqamxvcHFzdXZ2d3h4eHh5eXp7fYCChIaJi4yOj4+QkZGRkZKSkZGRkZCPj46KhoN/eHJwbmtpaGpqamtucHBydHV2d3d4eHh4eXp7fH6Bg4WHioyNjo+QkJCRkpKSkpKSkZCQkI+MiYaCe3Vyb2tpaWlpaWpsbnBxc3V2d3d4eHh4eHl6e3x+gYOFiIqMjY6PkJGRkZKSkpKSkpGQkJCPi4iEf3lzcG1qaGhpaGlqbG9wcXR1dnZ3eHh4eHl6enx+gIKEh4mLjY6PkJCRkpKTk5OTkpKRkJCQjYmGgXt1cW9raWhpaWhqbG5vcHN0dXd3eHh4eHh6ent9f4KDhYiKjI2PkJCQkZKTk5OTk5KRkZGQjYqIg313c3FtamlpaWdoa21ucHJ1dHZ3eHh4eXl5ent9f4GDhIeJi42Oj5CQkZKSkpKSkZGQj4+OjouHhoJ+d3Rzbmxqampoamxsbm9xc3N1dXd3d3l5ent8f4CChIaJioyOj5CRkpSUlZSUk5KRj46Ni4iGgn56dnJxbmxrampqa21ub3Byc3R0dnd3eHl6e3x+f4GDhIeIioyOj5CRkpOUlJSUk5GQj46MioeFgX16d3JxcGxra2tra21ubnBwcnJzdXZ3eHp7fH5/gYOEhoiKjI2PkJKTlJWVlZWUkpGPjoyKh4SBfnp3c3BvbGtra2prbG1tbnBxcXN1d3d5enx9foCChIWIiYuNj5CSk5WWlpaWlZORkI6LiIaDf3x5dnJwbm1ra2tra2ttbm5vcXNzdXd4ent9f4CChIWHiYuNjpCSk5WWlpaWlZSTkI+MioaDf3t4dHJwbWxraWpqamttbm9xcnN1d3h6fH1+gIKDhYeIioyNj5GTlJWWlZWUkpGQjouJhYF9enZzcG9tbGtra2tsbW1ucHFydHZ3eXt8foCBg4WHiIqMjo+RkpSVlZWUk5KQj42LiIWCfnt4dXJwb25tbW1tbm9vcHFxcnR2d3l6fH1/gIKDhYaIiYuNjo+QkZKSkZGQj46Mi4mHhIJ/fXt4dnVzcnFwcHBwcXFxcnN0dXZ3eHp7fH5/gIGChIWGh4mKi42Njo6Ojo2Mi4qJiIaEgoB+fHt5eHd2dXR0dHR0dXV1dnd3eHl5ent8fX9/gYKCg4SFhoeHiImJioqKiYiIh4aFhIOCgYB/fn19fHt7enp6enp6enp6enp7e3t8fHx9fX5/f4CAgYGCgoODg4ODg4ODg4ODg4KCgoGBgYCAgICAf39/f39/f35+fn5+fn5+fn5+fn19fX1+fn5+fn9/f39/gICAgICAgIGBgYGBgYGBgYGBgICAgICAgH9/f39/f39/f35+fn5/f39/f4CAgICAgICAgICAgICAgICAgICAgICAgICAf39/f39/f39/gIB/f39/f3+AgICAgICAgH9/f39/f39/f39/f39/f4CAgIB/f4B/f4B/gIB/gICAf4CAgICAgICAf4CAf39/f39/f39/gICAgICAgICAgH+AgIB/f39/f4CAgICAgICAgIB/f4B/gICAgH9/f39/f4CAgICAgICAgICAgICAgICAgICAgICAgICAf39/f39/f3+Af4CAgICAgICAgICAf39/f39/gICAgICAgICAgICAgH9/gIB/f39/f39/f39/f3+Af3+Af39/f3+AgICAgIB/gICAgICAgICAgH9/gICAgICAgICAgICAgICAgIB/gH9/f39/f39/f39/f39/f39/f39/f3+AgICAgICAgICAgICAgICAgICAgICAgICAgIB/gIB/gICAf39/gIB/gICAgIB/f39/f39/f39/f39/f39/f39/gICAgICAgICAgICAf4B/f39/f39/f39/f39/f3+Af4CAgICAgICAgICAgICAgICAf39/f39/f39/gICAgICAgICAgICAgICAgICAgICAgICAgH9/gICAgH9/f3+Af3+AgIB/gICAgICAgICAgICAgICAgICAgICAgICAgICAgICAf4CAf39/f39/f39/f39/f39/f39/f39/f39/f39/f3+Af39/gICAgICAgICAgICAgICAgICAgICAgICAgICAgICAgICAgICAgICAf4CAgICAgIB/f4B/gIB/gICAf4CAgICAgICAgICAgICAf4CAgICAgICAgH+Af4CAgICAgIB/f39/f4B/f3+Af3+Af4CAgICAgICAgH9/f4B/gH9/f39/gICAgICAgH+Af3+Af4CAgICAf3+Af3+Af39/f4CAgICAgICAgICAgICAgICAgICAgICAgICAgICAgICAgICAgICAgICAgICAgIB/gH9/gICAgICAf4CAf39/f4B/f4CAgIB/gH+AgH+AgICAgICAgICAgICAgICAgICAgH9/f39/f3+Af39/f39/f39/f39/f39/f39/f4CAgICAgICAgICAgICAgICAgICAgICAgICAgICAgICAgIB/gH9/f39/f39/gH9/gICAgICAgH+AgICAgICAgICAgICAgICAgICAgICAgICAgICAgICAgICAgICAgIB/f39/f39/f39/f39/f39/f39/f39/f39/f39/f39/f3+AgICAgICAgICAgICAgICAgICAgICAgICAgICAgICAgICAgICAgICAgICAf4CAgIB/gH+AgH+AgH+Af4B/f4CAgICAgICAgICAgICAgICAgICAgICAgICAgICAgICAgICAgICAgICAgICAgICAgH+Af39/f39/f39/f39/f3+Af39/f39/f39/f39/gH+AgICAgICAgICAgICAgICAgICAgICAgICAgICAgICAgH+AgICAgICAgICAgICAgICAgICAgICAgICAgICAgICAgICAgH9/gH+AgICAgICAgH9/gIB/gICAgICAgICAgICAgICAgICAgH9/gH9/gIB/f39/f39/f39/f39/f39/f39/f3+AgH+AgICAf4CAgICAgICAgICAgICAgICAgICAgICAgICAf3+AgICAgIB/f39/f3+Af4CAgICAgICAgICAgICAgICAgICAgICAgICAgICAgICAgICAgICAgICAgICAgICAgICAgICAgH9/gIB/f39/f39/f39/f39/f39/f39/f39/f39/f3+Af3+AgICAgICAgICAgH+AgICAgICAgH9/gICAf4CAgICAgICAgICAf4CAgICAgICAgICAgICAf4CAgICAgICAgIB/f4CAf3+AgICAgICAgICAgICAgICAgICAgICAgICAgICAgICAgH9/f3+Af3+Af4CAgIB/f39/f39/f39/f39/f39/gICAf3+Af39/f3+AgICAgICAgICAgICAgICAgICAgICAgH9/f39/f39/f4CAf39/f39/f39/f4CAgICAgICAgICAgICAgICAgICAgICAgICAgICAf4CAgICAgICAgICAgICAgH9/f39/f39/f4B/f39/f39/f39/f3+Af4B/gH9/f3+AgH+AgICAf3+AgICAgICAgICAgIB/gH9/f39/f39/f4CAgH+AgICAgICAgH+Af4CAgICAgICAgICAgICAgICAgICAgICAgICAgICAgH9/f39/f4CAgICAgICAgICAgICAgICAgH9/gH+Af4B/f39/gIB/f39/f39/f39/gH9/f3+AgICAgICAgH+AgICAf4CAgICAgICAgICAgICAgICAf4CAgH9/gICAgICAf4B/f39/f4B/gH9/f39/f39/f39/gICAgICAgICAgICAgICAgICAgICAgICAgICAgICAgICAgICAgICAgIB/gICAgIB/gICAgICAgH+AgICAgICAgIB/gH9/f39/f39/f4B/gIB/f39/f39/f39/gH+Af4CAgH+Af4B/f39/f4CAgICAf4CAgICAgICAgICAgICAf39/gICAgICAgICAgICAgICAgICAgICAgICAgICAgH9/gICAgICAgICAgICAgICAgICAgICAgICAgICAgICAf4CAf4B/f4B/gH9/gH9/gH+Af39/gH9/f3+AgICAgICAgIB/gH+AgH+Af4B/gH+Af39/f4CAgH9/f3+Af39/f39/gH+Af4B/f4CAf4CAgICAgICAgICAgICAgICAgICAgICAgICAgICAgICAgICAgH9/f4B/f3+AgIB/gIB/gH9/f39/f39/f4CAgICAgICAgICAgIB/gICAf4CAf4B/gIB/gICAgH9/gICAgICAf4CAgICAf39/f39/f39/gH9/gH9/gICAf4CAgICAgICAgIB/gICAgH+AgICAgICAgICAgICAgICAgICAgICAgICAgICAgICAgICAgICAgICAgH+AgICAgH+AgICAgICAgICAgICAgICAf39/gH9/f39/f3+AgH9/gICAgICAf4CAgICAf4CAgICAf39/gH+Af3+Af3+AgH+Af39/f39/f39/f39/gICAgICAgICAgICAf3+AgICAgICAgICAgICAgICAgICAgICAgICAgICAgICAgICAgICAgH9/gH+AgICAf4CAgH+AgIB/f39/f4B/gIB/gICAgICAgH+AgICAgICAgICAgICAf4B/f4B/f3+AgICAgH+AgICAgH9/gH+AgIB/f39/gIB/f39/f39/f4CAgIB/f4CAgH9/f4CAgICAgICAgICAgICAgICAgICAgICAgICAgH+AgICAgICAgICAgICAf39/f39/f39/f39/f39/f3+AgICAgICAgICAgICAgICAgICAgICAgICAgICAgICAgICAgH9/f39/f39/f39/f39/f39/f39/f39/f39/gH+Af4CAgICAgICAgICAgICAgICAgICAgICAgIB/gH9/gICAf3+Af4B/gICAgICAgICAgICAgICAgICAgICAgICAgICAgICAgICAgICAgIB/gH9/gH9/f39/f39/f3+AgH9/gH9/gH9/gH+AgICAgICAgH+AgH+Af3+Af39/f39/f39/f39/gH+AgICAf4CAgH+AgH+Af4CAgICAgICAf3+AgICAf4CAgICAf4CAgICAf4B/f4CAgICAf4CAf4CAgICAf4CAf4CAgIB/gICAgICAgICAf4CAgIB/f4CAgICAgIB/gIB/f4B/f4B/f4B/gH9/gH9/gIB/gH9/f39/f4B/f4B/f4B/gH+AgH+Af4B/gIB/gIB/f4CAgICAgICAgIB/gICAgICAgICAgICAf4CAgIB/gH+Af3+Af39/f4B/gIB/gH+Af4CAf4CAf4B/f4B/gH+AgIB/f4CAgICAf4CAgICAgH+AgIB/gIB/gIB/gICAf3+Af39/f4CAgH9/gIB/f39/gH9/gICAf4B/f4B/f39/gH9/f3+AgIB/gIB/gICAgICAgICAgICAf4CAgIB/gIB/gH+AgICAf4CAf4B/gIB/gICAgH+AgIB/f4B/gH9/gIB/f3+AgH9/gICAgH+Af4CAf4B/f39/gH+AgICAf4CAgH9/gIB/f3+AgH+Af4B/f4CAgH9/gH+AgH+Af3+Af39/f39/gH+AgH+AgIB/f3+AgH9/f4B/gH+AgH+AgIB/f4CAgH9/gH+AgH+AgICAf4CAgH9/gICAf3+AgICAf4CAgICAgIB/f4CAgH9/gICAgH9/gH+AgICAgICAgICAgH+AgICAgIB/f4B/gH9/gH+Af4CAf39/gH9/f3+Af4B/f39/f3+Af39/f39/f3+Af39/f4CAgH+AgICAgICAgICAgICAgH+AgICAgICAgICAf39/gIB/f3+Af39/f39/gH9/f4CAf3+Af3+AgICAgICAgICAgICAgICAgICAgICAgH9/gICAgICAf4CAgH9/gICAf4CAgIB/f39/f39/f4CAf39/f39/f4CAgH+AgICAf4CAgIB/f39/f4B/f4CAgH+Af4CAf4B/gH9/f3+AgIB/gICAgICAgICAgICAgH+AgIB/gH9/gICAgICAf4CAf3+AgIB/f3+AgIB/f3+AgICAgIB/gH+Af39/gIB/f3+AgICAgH+AgICAf4B/f4CAf39/f4CAgH9/f4CAgIB/f3+AgH9/f3+Af39/gH9/f4CAf3+AgIB/f39/gH+AgICAgH+AgICAgICAgICAgICAgH+AgH9/f39/f39/f4B/f39/f39/f4CAgICAgICAgICAgICAgICAgICAgICAgICAgICAgH+AgICAgICAgICAgICAf3+AgH9/f3+Af39/f4B/f39/f4CAf3+Af39/f4B/f39/gIB/gH+AgH9/gICAgH+AgIB/f4CAf39/gICAgH+AgICAgIB/f4B/f39/gICAf3+AgICAf3+AgH9/f4CAf3+AgICAgICAgH+AgICAgICAgICAgICAgICAgICAf4CAgIB/f3+AgH9/f39/f39/f39/gICAgH9/f39/f39/f39/gICAgICAgICAgICAgH+AgICAf39/gIB/f4CAgIB/gH9/f39/f39/f4CAf4CAgICAf4CAgH9/gICAf3+AgIB/f4CAgIB/gICAgICAgICAgIB/f39/f39/f39/gICAf4CAgIB/f3+AgICAgICAgICAgICAgICAgH+AgICAf3+AgIB/f3+AgH9/f39/f39/f39/f39/f3+Af39/gICAf39/gICAf3+AgIB/gICAgH+AgICAgIB/f3+AgIB/f39/f3+AgICAgICAgIB/gIB/f3+Af4CAgICAgH+AgICAgICAgICAgICAgH+AgICAgICAgICAgICAgIB/f3+AgIB/f3+Af39/f3+AgH9/f39/f3+AgH9/f39/gH9/gICAf3+AgH+AgIB/f4CAgICAgICAgH+AgIB/f3+AgIB/f4CAf3+Af4CAgH+AgH9/f39/f39/f3+Af3+AgIB/f4CAgIB/f4CAgICAgICAgICAgICAgICAgICAgICAgH+AgICAf4CAgICAgH9/gICAf39/f4B/f39/f4CAf3+AgH9/f3+AgH9/f4CAf39/f4B/gH+Af4CAgIB/gICAgH9/gICAgH9/gICAf39/gH9/f4B/f39/gIB/f4CAgH+AgICAf4CAgIB/f4CAgH+AgICAf4CAgH+AgICAgICAgICAgICAgICAgH9/gICAf39/f4B/f3+AgH9/f39/f4CA\" type=\"audio/x-wav\" />\n",
              "                    Your browser does not support the audio element.\n",
              "                </audio>\n",
              "              "
            ]
          },
          "metadata": {}
        }
      ]
    }
  ]
}